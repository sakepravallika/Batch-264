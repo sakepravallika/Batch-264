{
 "cells": [
  {
   "cell_type": "code",
   "execution_count": 1,
   "id": "cb647c2b",
   "metadata": {},
   "outputs": [],
   "source": [
    "import pandas as pd\n",
    "\n",
    "file_path = r'C:\\Users\\shiva\\Desktop\\Python 19102023\\ratings.csv'\n",
    "\n",
    "df = pd.read_csv(file_path)"
   ]
  },
  {
   "cell_type": "code",
   "execution_count": 2,
   "id": "d3604848",
   "metadata": {},
   "outputs": [
    {
     "data": {
      "text/plain": [
       "(100836, 4)"
      ]
     },
     "execution_count": 2,
     "metadata": {},
     "output_type": "execute_result"
    }
   ],
   "source": [
    "df.shape"
   ]
  },
  {
   "cell_type": "code",
   "execution_count": 3,
   "id": "dccc5d58",
   "metadata": {},
   "outputs": [],
   "source": [
    "file_path = r'C:\\Users\\shiva\\Desktop\\Python 19102023\\movies.csv'\n",
    "\n",
    "df1 = pd.read_csv(file_path)"
   ]
  },
  {
   "cell_type": "code",
   "execution_count": 4,
   "id": "7fbc8b0f",
   "metadata": {},
   "outputs": [
    {
     "data": {
      "text/plain": [
       "(9742, 3)"
      ]
     },
     "execution_count": 4,
     "metadata": {},
     "output_type": "execute_result"
    }
   ],
   "source": [
    "df1.shape"
   ]
  },
  {
   "cell_type": "code",
   "execution_count": 5,
   "id": "299f0116",
   "metadata": {},
   "outputs": [],
   "source": [
    "file_path = r'C:\\Users\\shiva\\Desktop\\Python 19102023\\tags.csv'\n",
    "\n",
    "df2 = pd.read_csv(file_path)"
   ]
  },
  {
   "cell_type": "code",
   "execution_count": 6,
   "id": "e8fa3ebb",
   "metadata": {},
   "outputs": [],
   "source": [
    "file_path = r'C:\\Users\\shiva\\Desktop\\Python 19102023\\links.csv'\n",
    "\n",
    "df3 = pd.read_csv(file_path)"
   ]
  },
  {
   "cell_type": "code",
   "execution_count": 7,
   "id": "7bf5d628",
   "metadata": {},
   "outputs": [
    {
     "name": "stdout",
     "output_type": "stream",
     "text": [
      "Number of unique user IDs: 610\n"
     ]
    }
   ],
   "source": [
    "unique_user_ids = df['userId'].unique()\n",
    "\n",
    "num_unique_user_ids = len(unique_user_ids)\n",
    "\n",
    "print(\"Number of unique user IDs:\", num_unique_user_ids)"
   ]
  },
  {
   "cell_type": "code",
   "execution_count": 8,
   "id": "b20e1428",
   "metadata": {},
   "outputs": [
    {
     "data": {
      "text/html": [
       "<div>\n",
       "<style scoped>\n",
       "    .dataframe tbody tr th:only-of-type {\n",
       "        vertical-align: middle;\n",
       "    }\n",
       "\n",
       "    .dataframe tbody tr th {\n",
       "        vertical-align: top;\n",
       "    }\n",
       "\n",
       "    .dataframe thead th {\n",
       "        text-align: right;\n",
       "    }\n",
       "</style>\n",
       "<table border=\"1\" class=\"dataframe\">\n",
       "  <thead>\n",
       "    <tr style=\"text-align: right;\">\n",
       "      <th></th>\n",
       "      <th>movieId</th>\n",
       "      <th>count</th>\n",
       "    </tr>\n",
       "  </thead>\n",
       "  <tbody>\n",
       "    <tr>\n",
       "      <th>314</th>\n",
       "      <td>356</td>\n",
       "      <td>329</td>\n",
       "    </tr>\n",
       "  </tbody>\n",
       "</table>\n",
       "</div>"
      ],
      "text/plain": [
       "     movieId  count\n",
       "314      356    329"
      ]
     },
     "execution_count": 8,
     "metadata": {},
     "output_type": "execute_result"
    }
   ],
   "source": [
    "merged_df = pd.merge(df, df1, on='movieId', how='inner')\n",
    "\n",
    "ratings_count = df.groupby('movieId')['rating'].count().reset_index(name='count')\n",
    "\n",
    "max_rated_movie = ratings_count[ratings_count['count'] == ratings_count['count'].max()]\n",
    "\n",
    "max_rated_movie"
   ]
  },
  {
   "cell_type": "code",
   "execution_count": 9,
   "id": "96b76aa9",
   "metadata": {},
   "outputs": [
    {
     "name": "stdout",
     "output_type": "stream",
     "text": [
      "\n",
      "Movie that has recieved max no of user ratings: Forrest Gump (1994)\n"
     ]
    }
   ],
   "source": [
    "movie_title_356 = merged_df[merged_df['movieId'] == 356]['title'].iloc[0]\n",
    "\n",
    "print(\"\\nMovie that has recieved max no of user ratings:\", movie_title_356)"
   ]
  },
  {
   "cell_type": "code",
   "execution_count": 10,
   "id": "88b3b75a",
   "metadata": {},
   "outputs": [
    {
     "name": "stdout",
     "output_type": "stream",
     "text": [
      "1313          martial arts\n",
      "1314                sci-fi\n",
      "1315    alternate universe\n",
      "1316            philosophy\n",
      "1317      post apocalyptic\n",
      "Name: tag, dtype: object\n"
     ]
    }
   ],
   "source": [
    "merged_df1 = pd.merge(df1, df2, on='movieId')\n",
    "\n",
    "matrix_tags = merged_df1[merged_df1['title'] == 'Matrix, The (1999)']\n",
    "\n",
    "print(matrix_tags['tag'])"
   ]
  },
  {
   "cell_type": "code",
   "execution_count": 11,
   "id": "cd004f0b",
   "metadata": {},
   "outputs": [
    {
     "name": "stdout",
     "output_type": "stream",
     "text": [
      "The average user rating for 'Terminator 2: Judgment Day (1991)' is: 3.970982142857143\n"
     ]
    }
   ],
   "source": [
    "average_rating = (\n",
    "    pd.merge(df, df1, on='movieId')\n",
    "    .query('title == \"Terminator 2: Judgment Day (1991)\"')\n",
    "    ['rating']\n",
    "    .mean()\n",
    ")\n",
    "\n",
    "print(f\"The average user rating for 'Terminator 2: Judgment Day (1991)' is: {average_rating}\")"
   ]
  },
  {
   "cell_type": "code",
   "execution_count": 12,
   "id": "7d805c1e",
   "metadata": {},
   "outputs": [
    {
     "data": {
      "text/plain": [
       "(array([ 3.,  0.,  1.,  5.,  3., 10., 17., 49., 49., 81.]),\n",
       " array([0.5 , 0.95, 1.4 , 1.85, 2.3 , 2.75, 3.2 , 3.65, 4.1 , 4.55, 5.  ]),\n",
       " <BarContainer object of 10 artists>)"
      ]
     },
     "execution_count": 12,
     "metadata": {},
     "output_type": "execute_result"
    },
    {
     "data": {
      "image/png": "[encoded data removed]",
      "text/plain": [
       "<Figure size 640x480 with 1 Axes>"
      ]
     },
     "metadata": {},
     "output_type": "display_data"
    }
   ],
   "source": [
    "import matplotlib.pyplot as plt\n",
    "\n",
    "merged_ratings_df = pd.merge(df, df1, on='movieId')\n",
    "\n",
    "movie_FightClub_ratings = merged_ratings_df[merged_ratings_df['title'] == 'Fight Club (1999)']\n",
    "\n",
    "plt.hist(movie_FightClub_ratings['rating'], bins=10, edgecolor='black')"
   ]
  },
  {
   "cell_type": "code",
   "execution_count": 13,
   "id": "22434b0e",
   "metadata": {},
   "outputs": [
    {
     "name": "stdout",
     "output_type": "stream",
     "text": [
      "The most popular movie with more than 50 ratings is: Shawshank Redemption, The (1994)\n"
     ]
    }
   ],
   "source": [
    "merged_df2 = (pd.merge(df1, df.groupby('movieId')['rating'].agg(['count', 'mean'])\n",
    "                       .reset_index(), on='movieId', how='inner'))\n",
    "\n",
    "df5 = merged_df2.query('count > 50')\n",
    "\n",
    "most_popular_movie = df5.nlargest(1, 'mean').iloc[0]['title']\n",
    "\n",
    "print(\"The most popular movie with more than 50 ratings is:\", most_popular_movie)"
   ]
  },
  {
   "cell_type": "code",
   "execution_count": 14,
   "id": "7af5a40b",
   "metadata": {},
   "outputs": [
    {
     "name": "stdout",
     "output_type": "stream",
     "text": [
      "                                 title  count\n",
      "314                Forrest Gump (1994)    329\n",
      "277   Shawshank Redemption, The (1994)    317\n",
      "257                Pulp Fiction (1994)    307\n",
      "510   Silence of the Lambs, The (1991)    279\n",
      "1938                Matrix, The (1999)    278\n"
     ]
    }
   ],
   "source": [
    "top5_popular_movies = df5.sort_values(by='count', ascending=False).head(5)\n",
    "\n",
    "print(top5_popular_movies[['title', 'count']])"
   ]
  },
  {
   "cell_type": "code",
   "execution_count": 15,
   "id": "0ac235a5",
   "metadata": {},
   "outputs": [
    {
     "name": "stdout",
     "output_type": "stream",
     "text": [
      "The third most popular Sci-Fi movie based on user ratings is: Jurassic Park (1993)\n"
     ]
    }
   ],
   "source": [
    "third_most_popular_sci_fi_movie = (df5[df5['genres'].str.contains('Sci-Fi')]\n",
    "                                   .nlargest(3, 'count').iloc[-1]['title'])\n",
    "\n",
    "print(\"The third most popular Sci-Fi movie based on user ratings is:\", third_most_popular_sci_fi_movie)"
   ]
  },
  {
   "cell_type": "code",
   "execution_count": 16,
   "id": "61effdf4",
   "metadata": {},
   "outputs": [
    {
     "name": "stdout",
     "output_type": "stream",
     "text": [
      "Movie with the highest IMDB rating has movieId: 109374\n"
     ]
    }
   ],
   "source": [
    "df6 = pd.merge(df5,df3, on = 'movieId')\n",
    "\n",
    "highest_imdb_movie = df6[df6['imdbId'] == df6['imdbId'].max()]\n",
    "\n",
    "highest_imdb_movie_id = highest_imdb_movie['movieId'].iloc[0]\n",
    "print(\"Movie with the highest IMDB rating has movieId:\", highest_imdb_movie_id)"
   ]
  },
  {
   "cell_type": "code",
   "execution_count": 17,
   "id": "c8aff8aa",
   "metadata": {},
   "outputs": [
    {
     "name": "stdout",
     "output_type": "stream",
     "text": [
      "Sci-Fi movie with the highest IMDB rating has movieId: 112852\n"
     ]
    }
   ],
   "source": [
    "highest_imdb_sci_fi_movie_id = (\n",
    "    df5[df5['genres'].str.contains('Sci-Fi')]\n",
    "    .merge(df6, on='movieId', how='inner')\n",
    "    .nlargest(1, 'imdbId')['movieId']\n",
    "    .iloc[0]\n",
    ")\n",
    "\n",
    "print(\"Sci-Fi movie with the highest IMDB rating has movieId:\", highest_imdb_sci_fi_movie_id)"
   ]
  }
 ],
 "metadata": {
  "kernelspec": {
   "display_name": "Python 3 (ipykernel)",
   "language": "python",
   "name": "python3"
  },
  "language_info": {
   "codemirror_mode": {
    "name": "ipython",
    "version": 3
   },
   "file_extension": ".py",
   "mimetype": "text/x-python",
   "name": "python",
   "nbconvert_exporter": "python",
   "pygments_lexer": "ipython3",
   "version": "3.11.5"
  }
 },
 "nbformat": 4,
 "nbformat_minor": 5
}
