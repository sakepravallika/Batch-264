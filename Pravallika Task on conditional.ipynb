{
 "cells": [
  {
   "cell_type": "code",
   "execution_count": 8,
   "id": "3422901f",
   "metadata": {},
   "outputs": [
    {
     "name": "stdout",
     "output_type": "stream",
     "text": [
      "enter your age: 12\n",
      "You are a minor\n"
     ]
    }
   ],
   "source": [
    "# age\n",
    "age = int(input(\"enter your age: \"))\n",
    "\n",
    "if age >= 18:\n",
    "    print(\"You are an adult\")\n",
    "else:\n",
    "    print(\"You are a minor\")"
   ]
  },
  {
   "cell_type": "code",
   "execution_count": 13,
   "id": "feb25817",
   "metadata": {},
   "outputs": [
    {
     "name": "stdout",
     "output_type": "stream",
     "text": [
      "Enter your numerical grade (out of 100): 65\n",
      "D\n"
     ]
    }
   ],
   "source": [
    "# numerical grade\n",
    "numerical_grade = int(input(\"Enter your numerical grade (out of 100): \"))\n",
    "\n",
    "if numerical_grade >= 90:\n",
    "    print('A')\n",
    "elif numerical_grade >= 80:\n",
    "    print('B')\n",
    "elif numerical_grade >= 70:\n",
    "    print('C')\n",
    "elif numerical_grade >= 60:\n",
    "    print('D')\n",
    "else:\n",
    "    print('E')"
   ]
  },
  {
   "cell_type": "code",
   "execution_count": 6,
   "id": "d52887b9",
   "metadata": {},
   "outputs": [
    {
     "name": "stdout",
     "output_type": "stream",
     "text": [
      "Enter your weight in kilograms: 70\n",
      "Enter your height in meters: 1.7\n",
      "normal weight\n"
     ]
    }
   ],
   "source": [
    "# BMI\n",
    "kg = int(input(\"Enter your weight in kg: \"))\n",
    "m = float(input(\"Enter your height in mts: \"))\n",
    "\n",
    "bmi = kg / (m ** 2)\n",
    "\n",
    "if bmi < 20:\n",
    "    print(\"underweight\")\n",
    "elif 20 <= bmi < 25:\n",
    "    print(\"normal weight\")\n",
    "elif 25 <= bmi < 30:\n",
    "    print(\"overweight\")\n",
    "else:\n",
    "    print(\"obese\")"
   ]
  },
  {
   "cell_type": "code",
   "execution_count": 10,
   "id": "6c9c32dc",
   "metadata": {},
   "outputs": [
    {
     "name": "stdout",
     "output_type": "stream",
     "text": [
      "Enter the first number: 22\n",
      "Enter the second number: 27\n",
      "Enter the third number: 29\n",
      "29\n"
     ]
    }
   ],
   "source": [
    "# Max of three numbers\n",
    "num1 = int(input(\"Enter the first number: \"))\n",
    "num2 = int(input(\"Enter the second number: \"))\n",
    "num3 = int(input(\"Enter the third number: \"))\n",
    "\n",
    "maximum = max(num1, num2, num3)\n",
    "\n",
    "print(maximum)"
   ]
  },
  {
   "cell_type": "code",
   "execution_count": 14,
   "id": "0f75fbf0",
   "metadata": {},
   "outputs": [
    {
     "name": "stdout",
     "output_type": "stream",
     "text": [
      "Enter the temperature in Celsius: 20\n",
      "It's warm\n"
     ]
    }
   ],
   "source": [
    "# temperature in Celsius\n",
    "temperature = float(input(\"Enter the temperature in Celsius: \"))\n",
    "\n",
    "if temperature < 0:\n",
    "    print(\"It's freezing\")\n",
    "elif 0 <= temperature <= 10:\n",
    "    print(\"It's cool\")\n",
    "elif 10 < temperature <= 20:\n",
    "    print(\"It's warm\")\n",
    "else:\n",
    "    print(\"It's hot\")"
   ]
  },
  {
   "cell_type": "code",
   "execution_count": 15,
   "id": "a9af7d2c",
   "metadata": {},
   "outputs": [
    {
     "name": "stdout",
     "output_type": "stream",
     "text": [
      "Enter a number: 15\n",
      "In range\n"
     ]
    }
   ],
   "source": [
    "# out of range\n",
    "number = int(input(\"Enter a number: \"))\n",
    "\n",
    "if 10 <= number <= 20:\n",
    "    print(\"In range\")\n",
    "else:\n",
    "    print(\"Out of range\")"
   ]
  },
  {
   "cell_type": "code",
   "execution_count": 18,
   "id": "614a78f1",
   "metadata": {},
   "outputs": [
    {
     "name": "stdout",
     "output_type": "stream",
     "text": [
      "Enter an integer: 15\n",
      "number is odd\n"
     ]
    }
   ],
   "source": [
    "# odd or even\n",
    "number = int(input(\"Enter an integer: \"))\n",
    "\n",
    "if number % 2 == 0:\n",
    "    print(\"number is even\")\n",
    "else:\n",
    "    print(\"number is odd\")"
   ]
  },
  {
   "cell_type": "code",
   "execution_count": 20,
   "id": "df68aca8",
   "metadata": {},
   "outputs": [
    {
     "name": "stdout",
     "output_type": "stream",
     "text": [
      "Player 1:rock\n",
      "Player 2:paper\n",
      "Player 2 wins\n"
     ]
    }
   ],
   "source": [
    "# rock paper scissor\n",
    "player1 = input('Player 1:')\n",
    "player2 = input('Player 2:')\n",
    "\n",
    "if player1 == player2:\n",
    "    print(\"It's a tie!\")\n",
    "elif player1 == \"rock\":\n",
    "    if player2 == \"scissors\":\n",
    "        print(\"Player 1 wins\")\n",
    "    else:\n",
    "        print(\"Player 2 wins\")\n",
    "elif player1 == \"paper\":\n",
    "    if player2 == \"rock\":\n",
    "        print(\"Player 1 wins\")\n",
    "    else:\n",
    "        print(\"Player 2 wins\")\n",
    "elif player1 == \"scissors\":\n",
    "    if player2 == \"paper\":\n",
    "        print(\"Player 1 wins\")\n",
    "    else:\n",
    "        print(\"Player 2 wins\")"
   ]
  },
  {
   "cell_type": "code",
   "execution_count": 23,
   "id": "819b84f8",
   "metadata": {},
   "outputs": [
    {
     "name": "stdout",
     "output_type": "stream",
     "text": [
      "Enter a word: paint\n",
      "word is not plural.\n"
     ]
    }
   ],
   "source": [
    "# Plural or not\n",
    "word = input(\"Enter a word: \")\n",
    "\n",
    "if word.endswith('s'):\n",
    "    print(\"word is plural.\")\n",
    "else:\n",
    "    print(\"word is not plural.\")"
   ]
  }
 ],
 "metadata": {
  "kernelspec": {
   "display_name": "Python 3 (ipykernel)",
   "language": "python",
   "name": "python3"
  },
  "language_info": {
   "codemirror_mode": {
    "name": "ipython",
    "version": 3
   },
   "file_extension": ".py",
   "mimetype": "text/x-python",
   "name": "python",
   "nbconvert_exporter": "python",
   "pygments_lexer": "ipython3",
   "version": "3.11.5"
  }
 },
 "nbformat": 4,
 "nbformat_minor": 5
}
