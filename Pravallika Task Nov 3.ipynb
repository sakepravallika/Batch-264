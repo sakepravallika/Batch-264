{
 "cells": [
  {
   "cell_type": "markdown",
   "id": "17f472e5",
   "metadata": {},
   "source": [
    "# 1E.Create a function that takes an array of values resistance that are connected in series, and calculates the total resistance of the circuit in ohms.\n",
    "The ohm is the standard unit of electrical resistance in the International System of Units ( SI )."
   ]
  },
  {
   "cell_type": "code",
   "execution_count": 90,
   "id": "73f3241b",
   "metadata": {},
   "outputs": [
    {
     "name": "stdout",
     "output_type": "stream",
     "text": [
      "100 in ohms\n"
     ]
    }
   ],
   "source": [
    "resistance = [10, 60, 30]\n",
    "total_of_resistance = 0\n",
    "x = 0\n",
    "while x < len(resistance):\n",
    "    total_of_resistance = total_of_resistance + resistance[x]\n",
    "    x = x + 1\n",
    "print(f\"{total_of_resistance} in ohms\")"
   ]
  },
  {
   "cell_type": "code",
   "execution_count": 91,
   "id": "2ecd3c2f",
   "metadata": {},
   "outputs": [
    {
     "name": "stdout",
     "output_type": "stream",
     "text": [
      "100 in ohms\n"
     ]
    }
   ],
   "source": [
    "resistance = [10, 60, 30]\n",
    "Sum_of_resistance = 0\n",
    "for r in resistance:\n",
    "    Sum_of_resistance = Sum_of_resistance + r\n",
    "print(f\"{Sum_of_resistance} in ohms\")    "
   ]
  },
  {
   "cell_type": "markdown",
   "id": "8cefbd03",
   "metadata": {},
   "source": [
    "# 2E.Create a function which concatenates the number 7 to the end of every chord in a list. Ignore all chords which already end with 7."
   ]
  },
  {
   "cell_type": "code",
   "execution_count": 92,
   "id": "0610d9c6",
   "metadata": {},
   "outputs": [
    {
     "name": "stdout",
     "output_type": "stream",
     "text": [
      "['v7', 'A7', 'L#7', 'L#I7']\n"
     ]
    }
   ],
   "source": [
    "chords = ['v', 'A7', 'L#', 'L#I7']\n",
    "x = 0\n",
    "while x < len(chords):\n",
    "    if not chords[x].endswith('7'):\n",
    "        chords[x] = chords[x] + '7'\n",
    "    x = x + 1\n",
    "print(chords)"
   ]
  },
  {
   "cell_type": "code",
   "execution_count": 93,
   "id": "e1005fb3",
   "metadata": {},
   "outputs": [
    {
     "name": "stdout",
     "output_type": "stream",
     "text": [
      "['v7', 'A7', 'L#7', 'L#I7']\n"
     ]
    }
   ],
   "source": [
    "chords = ['v', 'A7', 'L#', 'L#I7']\n",
    "for i in range(len(chords)):\n",
    "    if not chords[i].endswith(\"7\"):\n",
    "        chords[i] = chords[i] + '7'\n",
    "print(chords)"
   ]
  },
  {
   "cell_type": "markdown",
   "id": "31f450f4",
   "metadata": {},
   "source": [
    "# 3E.Create a function that takes two strings as arguments and returns the number of times the first string (the single character) is found in the second string."
   ]
  },
  {
   "cell_type": "code",
   "execution_count": 94,
   "id": "7108fcdc",
   "metadata": {},
   "outputs": [
    {
     "name": "stdout",
     "output_type": "stream",
     "text": [
      "Enter a single character: V\n",
      "Enter a string: Valli\n",
      "V found 1 times in Valli.\n"
     ]
    }
   ],
   "source": [
    "character = input(\"Enter a single character: \")\n",
    "string = input(\"Enter a string: \")\n",
    "count = 0\n",
    "x = 0\n",
    "while x < len(string):\n",
    "    if string[x] == character:\n",
    "        count = count + 1\n",
    "    x = x + 1\n",
    "print(f\"{character} found {count} times in {string}.\")"
   ]
  },
  {
   "cell_type": "code",
   "execution_count": 95,
   "id": "18073dc7",
   "metadata": {},
   "outputs": [
    {
     "name": "stdout",
     "output_type": "stream",
     "text": [
      "V found 1 times in Valli.\n"
     ]
    }
   ],
   "source": [
    "first_string = \"V\"\n",
    "second_string = \"Valli\"\n",
    "count = 0\n",
    "for character in second_string:\n",
    "    if character == first_string:\n",
    "        count = count + 1\n",
    "print(f\"{first_string} found {count} times in {second_string}.\")"
   ]
  },
  {
   "cell_type": "markdown",
   "id": "3da11bf2",
   "metadata": {},
   "source": [
    "# 4E.Create a function that takes an array of non-negative integers and strings and return a new array without the strings."
   ]
  },
  {
   "cell_type": "code",
   "execution_count": 96,
   "id": "a1231621",
   "metadata": {},
   "outputs": [
    {
     "name": "stdout",
     "output_type": "stream",
     "text": [
      "[1, 2]\n"
     ]
    }
   ],
   "source": [
    "array = [1, 2, \"Valli\", \"Royal\"]\n",
    "new_array = []\n",
    "i = 0\n",
    "while i < len(array):\n",
    "    if isinstance(array[i], int):\n",
    "        new_array.append(array[i])\n",
    "    i += 1\n",
    "print(new_array)"
   ]
  },
  {
   "cell_type": "code",
   "execution_count": 97,
   "id": "0aead76e",
   "metadata": {},
   "outputs": [
    {
     "name": "stdout",
     "output_type": "stream",
     "text": [
      "[1, 2]\n"
     ]
    }
   ],
   "source": [
    "array = [1, 2, \"Valli\", \"Royal\"]\n",
    "new_array = []\n",
    "for x in array:\n",
    "    if isinstance(x, int):\n",
    "        new_array.append(x)\n",
    "print(new_array)"
   ]
  },
  {
   "cell_type": "markdown",
   "id": "0ad19b1f",
   "metadata": {},
   "source": [
    "# 5E.Create a function that takes a list and finds the integer which appears an odd number of times."
   ]
  },
  {
   "cell_type": "code",
   "execution_count": 99,
   "id": "af040128",
   "metadata": {},
   "outputs": [
    {
     "name": "stdout",
     "output_type": "stream",
     "text": [
      "The integer that appears an odd number of times is: 3\n"
     ]
    }
   ],
   "source": [
    "my_list = [4, 3, 1, 3, 1, 4, 5, 4]\n",
    "while len(my_list) > 0:\n",
    "    element = my_list[0]\n",
    "    count = my_list.count(element)\n",
    "    print(f\"The integer that appears an odd number of times is: {count}\")\n",
    "    break"
   ]
  },
  {
   "cell_type": "code",
   "execution_count": 100,
   "id": "eca77d40",
   "metadata": {},
   "outputs": [
    {
     "name": "stdout",
     "output_type": "stream",
     "text": [
      "The integer that appears an odd number of times is: 4\n"
     ]
    }
   ],
   "source": [
    "my_list = [4, 3, 1, 3, 1, 4, 5, 4]\n",
    "count = {}\n",
    "for x in my_list:\n",
    "    if x in count:\n",
    "        count[x] = count[x] + 1\n",
    "    else:\n",
    "        count[x] = 1\n",
    "result = None\n",
    "for s, g in count.items():\n",
    "    if g % 2 != 0:\n",
    "        result = s\n",
    "        break\n",
    "print(f\"The integer that appears an odd number of times is: {result}\")"
   ]
  },
  {
   "cell_type": "markdown",
   "id": "4fe08ef4",
   "metadata": {},
   "source": [
    "# 6E.Create a function that computes the hamming distance between two strings."
   ]
  },
  {
   "cell_type": "code",
   "execution_count": 104,
   "id": "0a408a21",
   "metadata": {},
   "outputs": [
    {
     "name": "stdout",
     "output_type": "stream",
     "text": [
      "The Hamming distance between 'Valli' and 'Valle' is 1\n"
     ]
    }
   ],
   "source": [
    "string1 = \"Valli\"\n",
    "string2 = \"Valle\"\n",
    "distance = 0\n",
    "i = 0\n",
    "while i < len(string1):\n",
    "    if string1[i] != string2[i]:\n",
    "        distance = distance + 1\n",
    "    i = i + 1\n",
    "print(f\"The Hamming distance between '{string1}' and '{string2}' is {distance}\")"
   ]
  },
  {
   "cell_type": "code",
   "execution_count": 105,
   "id": "4f7d1559",
   "metadata": {},
   "outputs": [
    {
     "name": "stdout",
     "output_type": "stream",
     "text": [
      "The Hamming distance between 'Valli' and 'valle' is 2\n"
     ]
    }
   ],
   "source": [
    "string1 = \"Valli\"\n",
    "string2 = \"valle\"\n",
    "distance = 0\n",
    "for i in range(len(string1)):\n",
    "    if string1[i] != string2[i]:\n",
    "        distance = distance + 1\n",
    "print(f\"The Hamming distance between '{string1}' and '{string2}' is {distance}\")"
   ]
  },
  {
   "cell_type": "markdown",
   "id": "7414d50e",
   "metadata": {},
   "source": [
    "# 7E. Create a function that takes a list of non-negative integers and strings and return a new list without the strings."
   ]
  },
  {
   "cell_type": "code",
   "execution_count": 106,
   "id": "343e2cc6",
   "metadata": {},
   "outputs": [
    {
     "name": "stdout",
     "output_type": "stream",
     "text": [
      "['Valli', 'Royal']\n"
     ]
    }
   ],
   "source": [
    "array = [1, 2, \"Valli\", \"Royal\"]\n",
    "new_array = []\n",
    "i = 0\n",
    "while i < len(array):\n",
    "    if isinstance(array[i], str):\n",
    "        new_array.append(array[i])\n",
    "    i += 1\n",
    "print(new_array)"
   ]
  },
  {
   "cell_type": "code",
   "execution_count": 107,
   "id": "c65a231c",
   "metadata": {},
   "outputs": [
    {
     "name": "stdout",
     "output_type": "stream",
     "text": [
      "['Valli', 'Royal']\n"
     ]
    }
   ],
   "source": [
    "array = [1, 2, \"Valli\", \"Royal\"]\n",
    "new_array = []\n",
    "for x in array:\n",
    "    if isinstance(x, str):\n",
    "        new_array.append(x)\n",
    "print(new_array)"
   ]
  },
  {
   "cell_type": "markdown",
   "id": "341a99e1",
   "metadata": {},
   "source": [
    "# 17M.Create a function which adds spaces before every capital in a word. Uncapitalize the whole string afterwards."
   ]
  },
  {
   "cell_type": "code",
   "execution_count": 25,
   "id": "a48bd0c3",
   "metadata": {},
   "outputs": [
    {
     "name": "stdout",
     "output_type": "stream",
     "text": [
      "pravallika  valli\n"
     ]
    }
   ],
   "source": [
    "word = \"Pravallika Valli\"\n",
    "new_word = ''\n",
    "i = 0\n",
    "while i < len(word):\n",
    "    if i != 0 and word[i].isupper():\n",
    "        new_word += ' ' + word[i].lower()\n",
    "    else:\n",
    "        new_word += word[i].lower()\n",
    "    i += 1\n",
    "print(new_word)"
   ]
  },
  {
   "cell_type": "code",
   "execution_count": 24,
   "id": "317e0e93",
   "metadata": {},
   "outputs": [
    {
     "name": "stdout",
     "output_type": "stream",
     "text": [
      " pravallika  valli\n"
     ]
    }
   ],
   "source": [
    "word = \"Pravallika Valli\"\n",
    "result = ''\n",
    "for letter in word:\n",
    "    if letter.isupper():\n",
    "        result += ' ' + letter.lower()\n",
    "    else:\n",
    "        result += letter\n",
    "result = result[0] + result[1:]\n",
    "print(result)"
   ]
  },
  {
   "cell_type": "markdown",
   "id": "617cdb6e",
   "metadata": {},
   "source": [
    "# 18M.Create a function that counts the integer's number of digits."
   ]
  },
  {
   "cell_type": "code",
   "execution_count": 18,
   "id": "a7ee0ccd",
   "metadata": {},
   "outputs": [
    {
     "name": "stdout",
     "output_type": "stream",
     "text": [
      "Enter an integer: 246\n",
      "The number of digits is: 3\n"
     ]
    }
   ],
   "source": [
    "number = int(input(\"Enter an integer: \"))\n",
    "count = 0\n",
    "while number != 0:\n",
    "    count += 1\n",
    "    number //= 10\n",
    "print(\"The number of digits is:\", count)"
   ]
  },
  {
   "cell_type": "code",
   "execution_count": 21,
   "id": "73fc6416",
   "metadata": {},
   "outputs": [
    {
     "name": "stdout",
     "output_type": "stream",
     "text": [
      "Enter an integer: 246\n",
      "Number of digits: 3\n"
     ]
    }
   ],
   "source": [
    "number = int(input(\"Enter an integer: \"))\n",
    "count = 0\n",
    "for i in range(1, len(str(number)) + 1):\n",
    "    count += 1\n",
    "print(\"Number of digits:\", count)"
   ]
  },
  {
   "cell_type": "markdown",
   "id": "05e2ad6e",
   "metadata": {},
   "source": [
    "# 19M. Create a function that performs an even-odd transform to a list, n times. Each even-odd transformation:\n",
    "\n",
    "Adds two (+2) to each odd integer.\n",
    "Subtracts two (-2) from each even integer."
   ]
  },
  {
   "cell_type": "code",
   "execution_count": 82,
   "id": "58f2006c",
   "metadata": {},
   "outputs": [
    {
     "name": "stdout",
     "output_type": "stream",
     "text": [
      "[7, 9, 2]\n"
     ]
    }
   ],
   "source": [
    "lst1 = [5, 7, 4]\n",
    "n = 1\n",
    "while n > 0:\n",
    "    for i in range(len(lst1)):\n",
    "        if lst1[i] % 2 == 0:\n",
    "            lst1[i] -= 2\n",
    "        else:\n",
    "            lst1[i] += 2\n",
    "    n -= 1\n",
    "print(lst1)"
   ]
  },
  {
   "cell_type": "code",
   "execution_count": 83,
   "id": "a249212d",
   "metadata": {},
   "outputs": [
    {
     "name": "stdout",
     "output_type": "stream",
     "text": [
      "[3, 2, 5]\n"
     ]
    }
   ],
   "source": [
    "lst2 = [1, 4, 3]\n",
    "n = 1\n",
    "for j in range(n):\n",
    "    for i in range(len(lst2)):\n",
    "        if lst2[i] % 2 == 0:\n",
    "            lst2[i] -= 2\n",
    "        else:\n",
    "            lst2[i] += 2\n",
    "print(lst2)"
   ]
  },
  {
   "cell_type": "markdown",
   "id": "341348ce",
   "metadata": {},
   "source": [
    "# 20.Create a function that takes a list of numbers and return \"Boom!\" if the digit 7 appears in the list. Otherwise, return \"there is no 7 in the list\"."
   ]
  },
  {
   "cell_type": "code",
   "execution_count": 81,
   "id": "0a0f09e8",
   "metadata": {},
   "outputs": [
    {
     "name": "stdout",
     "output_type": "stream",
     "text": [
      "Boom!\n"
     ]
    }
   ],
   "source": [
    "numbers = [21, 22, 15, 47]\n",
    "i = 0\n",
    "x = False\n",
    "while i < len(numbers):\n",
    "    if '7' in str(numbers[i]):\n",
    "        x = True\n",
    "        break\n",
    "    i += 1\n",
    "if x:\n",
    "    print(\"Boom!\")\n",
    "else:\n",
    "    print(\"There is no 7 in the list\")"
   ]
  },
  {
   "cell_type": "code",
   "execution_count": 70,
   "id": "211d541c",
   "metadata": {},
   "outputs": [
    {
     "name": "stdout",
     "output_type": "stream",
     "text": [
      "There is no 7 in the list\n"
     ]
    }
   ],
   "source": [
    "numbers = [12, 34, 5, 89]\n",
    "for num in numbers:\n",
    "    num_str = str(num)\n",
    "    for x in num_str:\n",
    "        if x == '7':\n",
    "            print(\"Boom!\")\n",
    "            break\n",
    "else:\n",
    "    print(\"There is no 7 in the list\")"
   ]
  },
  {
   "cell_type": "markdown",
   "id": "50892f49",
   "metadata": {},
   "source": [
    "# 21M. You are given one input: a list containing eight 1's and/or 0's. Write a function that takes an 8 bit binary number and converts it to decimal."
   ]
  },
  {
   "cell_type": "code",
   "execution_count": 76,
   "id": "8db98c1d",
   "metadata": {},
   "outputs": [
    {
     "name": "stdout",
     "output_type": "stream",
     "text": [
      "185\n"
     ]
    }
   ],
   "source": [
    "binary_list = [1, 0, 1, 1, 1, 0, 0, 1]\n",
    "decimal = 0\n",
    "power = 0\n",
    "x = len(binary_list) - 1\n",
    "while x >= 0:\n",
    "    decimal += binary_list[x] * (2 ** power)\n",
    "    power += 1\n",
    "    x -= 1\n",
    "print(decimal)"
   ]
  },
  {
   "cell_type": "code",
   "execution_count": 77,
   "id": "32eaea1c",
   "metadata": {},
   "outputs": [
    {
     "name": "stdout",
     "output_type": "stream",
     "text": [
      "109\n"
     ]
    }
   ],
   "source": [
    "binary = [0, 1, 1, 0, 1, 1, 0, 1]\n",
    "decimal = 0\n",
    "for bit in binary:\n",
    "    decimal = decimal * 2 + bit\n",
    "print(decimal)"
   ]
  },
  {
   "cell_type": "markdown",
   "id": "ff21ccac",
   "metadata": {},
   "source": [
    "# 22M. Write a function that finds the largest even number in a list. Return -1 if not found. The use of built-in functions max() and sorted() are prohibited."
   ]
  },
  {
   "cell_type": "code",
   "execution_count": 78,
   "id": "99625e5c",
   "metadata": {},
   "outputs": [
    {
     "name": "stdout",
     "output_type": "stream",
     "text": [
      "6\n"
     ]
    }
   ],
   "source": [
    "lst = [2, 7, 5, 1, 6, 9]\n",
    "largest_even_num = -1\n",
    "i = 0\n",
    "while i < len(lst):\n",
    "    if lst[i] % 2 == 0 and lst[i] > largest_even_num:\n",
    "        largest_even_num = lst[i]\n",
    "    i += 1\n",
    "print(largest_even_num)"
   ]
  },
  {
   "cell_type": "code",
   "execution_count": 84,
   "id": "18f1ed5a",
   "metadata": {},
   "outputs": [
    {
     "name": "stdout",
     "output_type": "stream",
     "text": [
      "6\n"
     ]
    }
   ],
   "source": [
    "lst = [2, 7, 5, 1, 6, 9]\n",
    "largest = -1\n",
    "for num in lst:\n",
    "    if num % 2 == 0 and num > largest: \n",
    "        largest = num\n",
    "print(largest)"
   ]
  },
  {
   "cell_type": "markdown",
   "id": "d2900d19",
   "metadata": {},
   "source": [
    "# 23M. Create a function that takes in a list and returns a list of the accumulating sum."
   ]
  },
  {
   "cell_type": "code",
   "execution_count": 85,
   "id": "db9fd47c",
   "metadata": {},
   "outputs": [
    {
     "name": "stdout",
     "output_type": "stream",
     "text": [
      "[2, 7, 16]\n"
     ]
    }
   ],
   "source": [
    "lst = [2, 5, 9]\n",
    "if lst:\n",
    "    x = 1\n",
    "    while x < len(lst):\n",
    "        lst[x] = lst[x] + lst[x - 1]\n",
    "        x += 1\n",
    "print(lst)"
   ]
  },
  {
   "cell_type": "code",
   "execution_count": 86,
   "id": "2742a62d",
   "metadata": {},
   "outputs": [
    {
     "name": "stdout",
     "output_type": "stream",
     "text": [
      "[2, 5, 10, 19]\n"
     ]
    }
   ],
   "source": [
    "lst2 = [2, 3, 5, 9]\n",
    "result = []\n",
    "accumulated_sum = 0\n",
    "for num in lst2:\n",
    "    accumulated_sum += num\n",
    "    result.append(accumulated_sum)\n",
    "print(result)"
   ]
  }
 ],
 "metadata": {
  "kernelspec": {
   "display_name": "Python 3 (ipykernel)",
   "language": "python",
   "name": "python3"
  },
  "language_info": {
   "codemirror_mode": {
    "name": "ipython",
    "version": 3
   },
   "file_extension": ".py",
   "mimetype": "text/x-python",
   "name": "python",
   "nbconvert_exporter": "python",
   "pygments_lexer": "ipython3",
   "version": "3.11.5"
  }
 },
 "nbformat": 4,
 "nbformat_minor": 5
}
