{
 "cells": [
  {
   "cell_type": "code",
   "execution_count": 1,
   "id": "7aa7eaf3",
   "metadata": {},
   "outputs": [],
   "source": [
    "import numpy as np"
   ]
  },
  {
   "cell_type": "markdown",
   "id": "1ae3bcf3",
   "metadata": {},
   "source": [
    "1. Write a function, foo_1, that takes a NumPy array arr and returns the indices of the elements that are closest to a given target. If target is not in the given array, it should return ‘no item found’\n"
   ]
  },
  {
   "cell_type": "code",
   "execution_count": 2,
   "id": "ba53bafa",
   "metadata": {},
   "outputs": [
    {
     "name": "stdout",
     "output_type": "stream",
     "text": [
      "[2 3 4 5 6 8]\n"
     ]
    }
   ],
   "source": [
    "def foo_1(arr, target):\n",
    "    if target not in arr:\n",
    "        return 'no item found'\n",
    "\n",
    "    differences = np.abs(arr-target)\n",
    "\n",
    "    closest = np.where(differences == np.min(differences))[0]\n",
    "\n",
    "    return closest\n",
    "\n",
    "arr = np.array([3, 8, 7, 7, 7, 7, 7, 8, 7, 10])\n",
    "target = 7\n",
    "print(foo_1(arr, target))\n"
   ]
  },
  {
   "cell_type": "code",
   "execution_count": 3,
   "id": "fcdbe0e0",
   "metadata": {},
   "outputs": [
    {
     "name": "stdout",
     "output_type": "stream",
     "text": [
      "no item found\n"
     ]
    }
   ],
   "source": [
    "arr = np.array([3, 8, 7, 7, 7, 7, 7, 8, 7, 10])\n",
    "target = 11\n",
    "print(foo_1(arr, target))\n"
   ]
  },
  {
   "cell_type": "markdown",
   "id": "8c7583c4",
   "metadata": {},
   "source": [
    "2. Write a user defined function foo_2 that takes a 1 or 2 dim NumPy array arr and returns a new n-1 dim array, where each element is replaced by the count of non-zero elements wrt axis.\n"
   ]
  },
  {
   "cell_type": "code",
   "execution_count": 4,
   "id": "7414a684",
   "metadata": {},
   "outputs": [
    {
     "name": "stdout",
     "output_type": "stream",
     "text": [
      "[4 1 2]\n"
     ]
    }
   ],
   "source": [
    "def foo_2(arr, axis):\n",
    "    non_zero = np.count_nonzero(arr, axis)\n",
    "\n",
    "    return non_zero\n",
    "\n",
    "arr = np.array([[1, 2, 3, 4],\n",
    "                [0, 5, 0, 0],\n",
    "                [2, 0, 1, 0]])\n",
    "\n",
    "result = foo_2(arr, axis=1)\n",
    "print(result)"
   ]
  },
  {
   "cell_type": "code",
   "execution_count": 5,
   "id": "a63c28ab",
   "metadata": {},
   "outputs": [
    {
     "name": "stdout",
     "output_type": "stream",
     "text": [
      "[2 2 2 1]\n"
     ]
    }
   ],
   "source": [
    "def foo_2(arr, axis):\n",
    "    non_zero = np.count_nonzero(arr, axis)\n",
    "\n",
    "    return non_zero\n",
    "\n",
    "arr = np.array([[1, 2, 3, 4],\n",
    "                [0, 5, 0, 0],\n",
    "                [2, 0, 1, 0]])\n",
    "\n",
    "result = foo_2(arr, axis=0)\n",
    "print(result)"
   ]
  },
  {
   "cell_type": "code",
   "execution_count": 6,
   "id": "86312876",
   "metadata": {},
   "outputs": [
    {
     "name": "stdout",
     "output_type": "stream",
     "text": [
      "[[2 1 2 1]\n",
      " [0 2 0 0]\n",
      " [2 1 2 1]]\n"
     ]
    }
   ],
   "source": [
    "def foo_2(arr, axis):\n",
    "    non_zero = np.count_nonzero(arr, axis=axis)\n",
    "\n",
    "    return non_zero\n",
    "\n",
    "arr1 = np.array([[[1, 2, 3, 4],\n",
    "                  [0, 5, 0, 0],\n",
    "                  [2, 0, 1, 0]],\n",
    "\n",
    "                 [[2, 0, 1, 0],\n",
    "                  [0, 5, 0, 0],\n",
    "                  [1, 2, 3, 4]]])\n",
    "\n",
    "result = foo_2(arr1, axis=0)\n",
    "print(result)"
   ]
  },
  {
   "cell_type": "code",
   "execution_count": 7,
   "id": "15859478",
   "metadata": {},
   "outputs": [
    {
     "name": "stdout",
     "output_type": "stream",
     "text": [
      "[[2 2 2 1]\n",
      " [2 2 2 1]]\n"
     ]
    }
   ],
   "source": [
    "def foo_2(arr, axis):\n",
    "    non_zero = np.count_nonzero(arr, axis=axis)\n",
    "\n",
    "    return non_zero\n",
    "\n",
    "arr1 = np.array([[[1, 2, 3, 4],\n",
    "                  [0, 5, 0, 0],\n",
    "                  [2, 0, 1, 0]],\n",
    "\n",
    "                 [[2, 0, 1, 0],\n",
    "                  [0, 5, 0, 0],\n",
    "                  [1, 2, 3, 4]]])\n",
    "\n",
    "result = foo_2(arr1, axis=1)\n",
    "print(result)\n"
   ]
  },
  {
   "cell_type": "code",
   "execution_count": 8,
   "id": "70b745f9",
   "metadata": {},
   "outputs": [
    {
     "name": "stdout",
     "output_type": "stream",
     "text": [
      "[[4 1 2]\n",
      " [2 1 4]]\n"
     ]
    }
   ],
   "source": [
    "def foo_2(arr, axis):\n",
    "    non_zero = np.count_nonzero(arr, axis=axis)\n",
    "\n",
    "    return non_zero\n",
    "\n",
    "arr1 = np.array([[[1, 2, 3, 4],\n",
    "                  [0, 5, 0, 0],\n",
    "                  [2, 0, 1, 0]],\n",
    "\n",
    "                 [[2, 0, 1, 0],\n",
    "                  [0, 5, 0, 0],\n",
    "                  [1, 2, 3, 4]]])\n",
    "\n",
    "result = foo_2(arr1, axis=2)\n",
    "print(result)\n"
   ]
  },
  {
   "cell_type": "markdown",
   "id": "490c0586",
   "metadata": {},
   "source": [
    "3.1 You are given a 2D NumPy array of data representing student scores. Each row represents a student, and each column represents a subject. Extract the scores of all students who scored above 90 in at least one subject. Provide the resulting array.\n"
   ]
  },
  {
   "cell_type": "code",
   "execution_count": 10,
   "id": "79e4dc60",
   "metadata": {},
   "outputs": [
    {
     "name": "stdout",
     "output_type": "stream",
     "text": [
      "[[94 76 60]\n",
      " [66 60 82]\n",
      " [65 88 81]\n",
      " [80 65 98]]\n",
      "Resulting Array: \n",
      "[[94 76 60]\n",
      " [80 65 98]]\n"
     ]
    }
   ],
   "source": [
    "student_scores = np.random.randint(60,100,(4,3))\n",
    "print(student_scores)\n",
    "\n",
    "above_90_mask = np.any(student_scores > 90, axis=1)\n",
    "resulting_array = student_scores[above_90_mask]\n",
    "\n",
    "print('Resulting Array: ')\n",
    "print(resulting_array)"
   ]
  },
  {
   "cell_type": "markdown",
   "id": "abf7f3cc",
   "metadata": {},
   "source": [
    "3.2 You are provided with a 2D NumPy array of data representing sales data for different products. Each row corresponds to a product, and each column represents the monthly sales for a specific month. Calculate the following statistics for each product: mean, median, standard deviation, and the month with the highest sales.\n"
   ]
  },
  {
   "cell_type": "code",
   "execution_count": 11,
   "id": "a0cb5a24",
   "metadata": {},
   "outputs": [
    {
     "name": "stdout",
     "output_type": "stream",
     "text": [
      "[[334 315 337 141]\n",
      " [305 152 198 274]\n",
      " [218 102 202 245]\n",
      " [168 115 325 211]]\n",
      "Product 1:\n",
      "Mean: 281.75\n",
      "Median: 324.5\n",
      "Standard Deviation: 81.69876070051491\n",
      "Month with the highest sales: Month 3\n",
      "\n",
      "Product 2:\n",
      "Mean: 232.25\n",
      "Median: 236.0\n",
      "Standard Deviation: 60.51601027827264\n",
      "Month with the highest sales: Month 1\n",
      "\n",
      "Product 3:\n",
      "Mean: 191.75\n",
      "Median: 210.0\n",
      "Standard Deviation: 54.04801106423806\n",
      "Month with the highest sales: Month 4\n",
      "\n",
      "Product 4:\n",
      "Mean: 204.75\n",
      "Median: 189.5\n",
      "Standard Deviation: 77.30580508603478\n",
      "Month with the highest sales: Month 3\n",
      "\n"
     ]
    }
   ],
   "source": [
    "sales_data = np.random.randint(90,350,(4,4))\n",
    "print(sales_data)\n",
    "\n",
    "mean_values = np.mean(sales_data, axis=1)\n",
    "\n",
    "median_values = np.median(sales_data, axis=1)\n",
    "\n",
    "standard_deviation_values = np.std(sales_data, axis=1)\n",
    "\n",
    "best_month_sales = np.argmax(sales_data, axis=1)\n",
    "\n",
    "for i in range(len(mean_values)):\n",
    "    print(f\"Product {i+1}:\")\n",
    "    print(f\"Mean: {mean_values[i]}\")\n",
    "    print(f\"Median: {median_values[i]}\")\n",
    "    print(f\"Standard Deviation: {standard_deviation_values[i]}\")\n",
    "    print(f\"Month with the highest sales: Month {best_month_sales[i] + 1}\")\n",
    "    print()\n"
   ]
  },
  {
   "cell_type": "markdown",
   "id": "354cf28e",
   "metadata": {},
   "source": [
    "3.3 Create a NumPy array of size 1000 with random integers between 1 and 100. Then, use NumPy functions to find the top 10 most frequently occurring values in the array.\n"
   ]
  },
  {
   "cell_type": "code",
   "execution_count": 13,
   "id": "565ed7d6",
   "metadata": {},
   "outputs": [
    {
     "name": "stdout",
     "output_type": "stream",
     "text": [
      "[ 75   3  98  56  71  21  50  94  52  71  53  31  27  56  25  12  78  11\n",
      "  69 100  43  23  89   6  42  83  71  96  40  97  90  22  87  31   9  90\n",
      "   3  43  30   3  38  61  93   7  41  58  62   5   5  99  25  14   5  11\n",
      "  81   1  99   8  34  72  87  90  18  44  85  49   5  82  61   9  35  25\n",
      "  57  79  52  35  60  81  93   1  53  50  43  94  49  15   5  33  70  88\n",
      "  72  67  11   5  68  70  27  14  41  16  50  56  45  89  80  68  59   9\n",
      "   6  90  25  48  38   4  23  57 100  49  93  49  60  20  99  54  45  11\n",
      "   9  44  51  59  29  20  94  58  42   7  82  63  64  49  59  40  86   6\n",
      "  62  56  65  45  58  52  89  88  14   3  85  86  85  56  58  64  67  30\n",
      "  13  42  35  40  72  99   9  12  99  31  21  92  78  28   4  88  37  89\n",
      "  29  18  11  97  81  94  90  13  36  97  68  19  84  98  58  28  34  54\n",
      "  80  42  59  82  93  76  33  41  21  96   1  89  65  36   3  31  15  70\n",
      "  10  15  18  14  41   6  48  59  84  93  38  94  25 100   8  16  78  97\n",
      "  21  55  33  19  51   8  83  66  68  81   8  73  77  71  67  31  39  15\n",
      "  27  57  94  54  30  47  52  94  82  39  80   4  56  52  54  85  15  28\n",
      "  33  62  82  96  32  34  61  69  49   7  35  11  33  37  88  26  47  33\n",
      "  21  96  80  92  16  85  92  24  39  91  67  45  90  70  69  98   2  17\n",
      "   3  89  53  31  77  96  43  34  77  72  13  47  92  54  47  16  26  33\n",
      "  36  97  42  50   1  12  39  48   6  98  15  85  59  66  12   5  28  68\n",
      "  27  25  69  81  19  37   9  22  32  30  77  93  57  15  34  56  93  48\n",
      "  66  98  23  31  35  55  11  56  73  14  15  78  41  18  35  37  69  85\n",
      "  58  90  63  73  20  12   5  86  32  21  15  35  53  94  38  32  17  17\n",
      "  37   7  88  72  14  96  67  93  50  59  90  45  35  97  75  21   8  76\n",
      "  34  18  89  90  50  84   2  26  57   6  93  98  78  61  95  59  29   4\n",
      "   6  76  23  58  11  38  77  85  65  63  62  56   5  25  50  21   5   1\n",
      "  75  85  63  92  54  58  75  42  14  32   3  75  91  36  51  81  70  80\n",
      "  79  42  92  75  11  21  14 100  44  61  32  52  39  68  72  17  63  66\n",
      "  39  35  40  61  19  96  53  64  50  17  14  37   7  32  73  33  57  37\n",
      "  89   7  63  17  89  14  84  66  53  89  16  33  97  46  46   8  43  15\n",
      "  74  70  20  97  85  20  57  70  37  49  95  83  35  30  63  61  79  95\n",
      "  34  55  92  37  26  54  62  91  61  93   6  87  44  77  65  86  34  91\n",
      "   4  52  99  69  19  19  13  31  37  16  83  10  89  34  20  36  66  87\n",
      "  59  93  58  26   9  54  46  94  53  13  57  42  20  31  43  96  21  21\n",
      "  87  20  74  12  98  37  80  65  21  53  85  94  10  11  72  16  59   1\n",
      "  63  63  71   6  81  29  88  52  71  45  23  91  47  15  35  70  97   7\n",
      "  98  25   9  55  88   5  53  43  78  73  43   1  11  78  21  26  31  87\n",
      "  22  60  23  53  45  52  73  79  90  20  82  79  76  27  37  61  96  48\n",
      "  88  90   4  97  41  22  47  73  35  85  80  80  54  81  52  73  21   2\n",
      "  13  69  25  36  45  22  16  41  46  48  88  27  46  88  44  73   9  66\n",
      "   7   9  28  26  40  40  59  51   6  12  67  58  52  19  79   4  95  33\n",
      "  81  58  68  65  95  78  23  31  52  14  87  86  66  97  65  82  13  86\n",
      "  74  55  17  41  50   9   8  63  74   8  31  31  82  17  50  72  37  70\n",
      "  39  72  80  17  82  26   2  45  31  63  12  57  97  43  96  55  49  29\n",
      "  68  12  11  55  36  81  71  61  93  43  94   1  34  40  30  20  45  18\n",
      "  16  18   5  81  15  32  98  47  84  52  37  31  91  77  28  76  31  83\n",
      "  23  61  65  39  11  78  55  97  53  34  21  14   4  25  33   6   7  58\n",
      "  98  30  15  78   9  38  11  46  30  36  83  69  53  19  59  33  56  59\n",
      " 100  91  20  51  76  88  93  86  80   9  72   9  18  43   3  56  69  80\n",
      "  16  20  75  17  35  77  83  37  99  88  97  76  40  52  37  92  19  54\n",
      "   7  40  22 100  97  86  74  87  33  58  95  68  64  23  86  61  99  13\n",
      "  99  19  10  77  54   6  42  28  99  58  87  69  85  56  49  53  27   8\n",
      "  69  44  61  28   3  31  68  94  82  88  75  91  53  67  54  30  15  12\n",
      "  54  52  71  72  74  89  39  30  20  87  20  15  97  69  66  78  28  65\n",
      "  43  83  74  81  23  86  76   3   8  74  80  74  20  44  11   3  32  21\n",
      "  49   6  51  49  24  99   4  54  91  91  43   6  64  85  90  12  49  37\n",
      "   2  21  85  89  77  61  61  85  29  41]\n",
      "Top 10 most frequently occurring values:\n",
      "21: 17 occurrences\n",
      "37: 17 occurrences\n",
      "31: 17 occurrences\n",
      "85: 16 occurrences\n",
      "97: 16 occurrences\n",
      "11: 15 occurrences\n",
      "15: 15 occurrences\n",
      "61: 15 occurrences\n",
      "52: 15 occurrences\n",
      "20: 15 occurrences\n"
     ]
    }
   ],
   "source": [
    "random_array = np.random.randint(1, 101, size=1000)\n",
    "print(random_array)\n",
    "\n",
    "unique_values, counts = np.unique(random_array, return_counts=1)\n",
    "\n",
    "sorted_indices = np.argsort(counts)[::-1]\n",
    "\n",
    "top_values = unique_values[sorted_indices[:10]]\n",
    "top_counts = counts[sorted_indices[:10]]\n",
    "\n",
    "print(\"Top 10 most frequently occurring values:\")\n",
    "for value, count in zip(top_values, top_counts):\n",
    "    print(f\"{value}: {count} occurrences\")"
   ]
  },
  {
   "cell_type": "code",
   "execution_count": null,
   "id": "0de4bca7",
   "metadata": {},
   "outputs": [],
   "source": []
  }
 ],
 "metadata": {
  "kernelspec": {
   "display_name": "Python 3 (ipykernel)",
   "language": "python",
   "name": "python3"
  },
  "language_info": {
   "codemirror_mode": {
    "name": "ipython",
    "version": 3
   },
   "file_extension": ".py",
   "mimetype": "text/x-python",
   "name": "python",
   "nbconvert_exporter": "python",
   "pygments_lexer": "ipython3",
   "version": "3.11.5"
  }
 },
 "nbformat": 4,
 "nbformat_minor": 5
}
