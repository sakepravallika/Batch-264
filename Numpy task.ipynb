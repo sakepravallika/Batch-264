{
 "cells": [
  {
   "cell_type": "code",
   "execution_count": 31,
   "id": "272e22bd",
   "metadata": {},
   "outputs": [],
   "source": [
    "import numpy as np"
   ]
  },
  {
   "cell_type": "code",
   "execution_count": 33,
   "id": "9dfbfa7c",
   "metadata": {},
   "outputs": [],
   "source": [
    "from numpy import genfromtxt"
   ]
  },
  {
   "cell_type": "code",
   "execution_count": 34,
   "id": "50842ab3",
   "metadata": {},
   "outputs": [],
   "source": [
    "fpath = r'C:\\Users\\valli\\Desktop\\Python\\tipsf.csv'"
   ]
  },
  {
   "cell_type": "code",
   "execution_count": 35,
   "id": "45c1cee8",
   "metadata": {},
   "outputs": [],
   "source": [
    "data = genfromtxt(fpath, delimiter = ',', skip_header = True)"
   ]
  },
  {
   "cell_type": "code",
   "execution_count": 36,
   "id": "daaad83c",
   "metadata": {},
   "outputs": [
    {
     "data": {
      "text/plain": [
       "array([[  0.  ,  16.99,   1.01, ...,   1.  ,   0.  ,   2.  ],\n",
       "       [  1.  ,  10.34,   1.66, ...,   1.  ,   0.  ,   3.  ],\n",
       "       [  2.  ,  21.01,   3.5 , ...,   1.  ,   0.  ,   3.  ],\n",
       "       ...,\n",
       "       [241.  ,  22.67,   2.  , ...,   0.  ,   0.  ,   2.  ],\n",
       "       [242.  ,  17.82,   1.75, ...,   0.  ,   0.  ,   2.  ],\n",
       "       [243.  ,  18.78,   3.  , ...,   2.  ,   0.  ,   2.  ]])"
      ]
     },
     "execution_count": 36,
     "metadata": {},
     "output_type": "execute_result"
    }
   ],
   "source": [
    "data"
   ]
  },
  {
   "cell_type": "code",
   "execution_count": 43,
   "id": "936ddec5",
   "metadata": {},
   "outputs": [
    {
     "data": {
      "text/plain": [
       "4827.77"
      ]
     },
     "execution_count": 43,
     "metadata": {},
     "output_type": "execute_result"
    }
   ],
   "source": [
    "total_bill = np.sum(data[:,1])\n",
    "total_bill"
   ]
  },
  {
   "cell_type": "code",
   "execution_count": 46,
   "id": "205f3d0d",
   "metadata": {},
   "outputs": [
    {
     "data": {
      "text/plain": [
       "731.5799999999999"
      ]
     },
     "execution_count": 46,
     "metadata": {},
     "output_type": "execute_result"
    }
   ],
   "source": [
    "total_tip = np.sum(data[:,2])\n",
    "total_tip"
   ]
  },
  {
   "cell_type": "code",
   "execution_count": 49,
   "id": "99ab63af",
   "metadata": {},
   "outputs": [
    {
     "name": "stdout",
     "output_type": "stream",
     "text": [
      "Number of 0.0's: 87\n",
      "Number of 1.0's: 76\n",
      "Number of 2.0's: 62\n",
      "Number of 3.0's: 19\n"
     ]
    }
   ],
   "source": [
    "fifth_column = data[:, 5]\n",
    "unique_values, counts = np.unique(fifth_column, return_counts=True)\n",
    "\n",
    "for value, count in zip(unique_values, counts):\n",
    "    print(f\"Number of {value}'s: {count}\")"
   ]
  },
  {
   "cell_type": "code",
   "execution_count": 53,
   "id": "1237909b",
   "metadata": {},
   "outputs": [
    {
     "data": {
      "text/plain": [
       "93.0"
      ]
     },
     "execution_count": 53,
     "metadata": {},
     "output_type": "execute_result"
    }
   ],
   "source": [
    "smokers = np.sum(data[:,4])\n",
    "smokers"
   ]
  },
  {
   "cell_type": "code",
   "execution_count": 57,
   "id": "034291b7",
   "metadata": {},
   "outputs": [
    {
     "name": "stdout",
     "output_type": "stream",
     "text": [
      "Avg tip given by males: 2.8334482758620685\n",
      "Avg tip given by females: 3.0896178343949043\n"
     ]
    }
   ],
   "source": [
    "tip_column = data[:, 2]\n",
    "gender_column = data[:, 3]\n",
    "\n",
    "total_tip_male = np.mean(tip_column[gender_column == 0])\n",
    "\n",
    "total_tip_female = np.mean(tip_column[gender_column == 1])\n",
    "\n",
    "print(f\"Avg tip given by males:\", total_tip_male)\n",
    "print(f\"Avg tip given by females:\", total_tip_female)"
   ]
  },
  {
   "cell_type": "code",
   "execution_count": 59,
   "id": "94c1cf74",
   "metadata": {},
   "outputs": [
    {
     "name": "stdout",
     "output_type": "stream",
     "text": [
      "Total bill spent by males: 1570.9499999999996\n",
      "Total bill spent by females: 3256.8199999999997\n"
     ]
    }
   ],
   "source": [
    "total_bill_column = data[:, 1]\n",
    "gender_column = data[:, 3]\n",
    "\n",
    "total_bill_male = np.sum(total_bill_column[gender_column == 0])\n",
    "total_bill_female = np.sum(total_bill_column[gender_column == 1])\n",
    "\n",
    "print(f\"Total bill spent by males:\", total_bill_male)\n",
    "print(f\"Total bill spent by females:\", total_bill_female)"
   ]
  },
  {
   "cell_type": "code",
   "execution_count": 61,
   "id": "878e1b4f",
   "metadata": {},
   "outputs": [
    {
     "name": "stdout",
     "output_type": "stream",
     "text": [
      "The min tip given is : 1.0\n",
      "The max tip given is : 10.0\n"
     ]
    }
   ],
   "source": [
    "tip_column = data[:, 2]\n",
    "\n",
    "min_tip = np.min(tip_column)\n",
    "max_tip = np.max(tip_column)\n",
    "\n",
    "print(f\"The min tip given is : {min_tip}\")\n",
    "print(f\"The max tip given is : {max_tip}\")"
   ]
  },
  {
   "cell_type": "code",
   "execution_count": 65,
   "id": "928c7cd4",
   "metadata": {},
   "outputs": [
    {
     "name": "stdout",
     "output_type": "stream",
     "text": [
      "Total bill spent by males: 1570.9499999999996\n",
      "Total bill spent by females: 3256.8199999999997\n"
     ]
    }
   ],
   "source": [
    "total_bill_column = data[:, 1]\n",
    "gender_column = data[:, 3]\n",
    "\n",
    "total_bill_male = np.sum(total_bill_column[gender_column == 0])\n",
    "\n",
    "total_bill_female = np.sum(total_bill_column[gender_column == 1])\n",
    "\n",
    "print(f\"Total bill spent by males:\", total_bill_male)\n",
    "print(f\"Total bill spent by females:\", total_bill_female)"
   ]
  },
  {
   "cell_type": "code",
   "execution_count": 62,
   "id": "3c79bf84",
   "metadata": {},
   "outputs": [
    {
     "name": "stdout",
     "output_type": "stream",
     "text": [
      "Number of males going for lunch: 35\n",
      "Number of females going for lunch: 33\n",
      "Number of males going for dinner: 52\n",
      "Number of females going for dinner: 124\n"
     ]
    }
   ],
   "source": [
    "gender_column = data[:, 3]\n",
    "time_column = data[:, 6]\n",
    "\n",
    "male_lunch_count = np.sum((gender_column == 0) & (time_column == 1))\n",
    "female_lunch_count = np.sum((gender_column == 1) & (time_column == 1))\n",
    "\n",
    "male_dinner_count = np.sum((gender_column == 0) & (time_column == 0))\n",
    "female_dinner_count = np.sum((gender_column == 1) & (time_column == 0))\n",
    "\n",
    "print(\"Number of males going for lunch:\", male_lunch_count)\n",
    "print(\"Number of females going for lunch:\", female_lunch_count)\n",
    "print(\"Number of males going for dinner:\", male_dinner_count)\n",
    "print(\"Number of females going for dinner:\", female_dinner_count)\n"
   ]
  },
  {
   "cell_type": "code",
   "execution_count": 63,
   "id": "1f7e0cb4",
   "metadata": {},
   "outputs": [
    {
     "name": "stdout",
     "output_type": "stream",
     "text": [
      "The Avg size is : 2.569672131147541\n"
     ]
    }
   ],
   "source": [
    "size_column = data[:, 7]\n",
    "\n",
    "avg_size = np.mean(size_column)\n",
    "\n",
    "print(f\"The Avg size is : {avg_size}\")"
   ]
  },
  {
   "cell_type": "code",
   "execution_count": 64,
   "id": "0c20ec83",
   "metadata": {},
   "outputs": [
    {
     "name": "stdout",
     "output_type": "stream",
     "text": [
      "Number of male smokers: 33\n",
      "Number of female smokers: 60\n"
     ]
    }
   ],
   "source": [
    "gender_column = data[:, 3]\n",
    "smokers = data[:, 4]\n",
    "\n",
    "male_smokers_count = np.sum((gender_column == 0) & (smokers == 1))\n",
    "female_smokers_count = np.sum((gender_column == 1) & (smokers == 1))\n",
    "\n",
    "print(\"Number of male smokers:\", male_smokers_count)\n",
    "print(\"Number of female smokers:\", female_smokers_count)"
   ]
  }
 ],
 "metadata": {
  "kernelspec": {
   "display_name": "Python 3 (ipykernel)",
   "language": "python",
   "name": "python3"
  },
  "language_info": {
   "codemirror_mode": {
    "name": "ipython",
    "version": 3
   },
   "file_extension": ".py",
   "mimetype": "text/x-python",
   "name": "python",
   "nbconvert_exporter": "python",
   "pygments_lexer": "ipython3",
   "version": "3.11.5"
  }
 },
 "nbformat": 4,
 "nbformat_minor": 5
}
