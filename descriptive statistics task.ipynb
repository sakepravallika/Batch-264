{
 "cells": [
  {
   "cell_type": "markdown",
   "id": "676e7f59",
   "metadata": {},
   "source": [
    "# Measures of Central Tendency"
   ]
  },
  {
   "cell_type": "code",
   "execution_count": 53,
   "id": "e5f704de",
   "metadata": {},
   "outputs": [],
   "source": [
    "import pandas as pd"
   ]
  },
  {
   "cell_type": "code",
   "execution_count": 54,
   "id": "10f792ec",
   "metadata": {},
   "outputs": [
    {
     "name": "stdout",
     "output_type": "stream",
     "text": [
      "    ProductA  ProductB\n",
      "0         25        40\n",
      "1         30        35\n",
      "2         28        38\n",
      "3         32        41\n",
      "4         26        37\n",
      "5         29        36\n",
      "6         27        39\n",
      "7         33        42\n",
      "8         31        38\n",
      "9         28        37\n",
      "10        30        40\n",
      "11        29        36\n"
     ]
    }
   ],
   "source": [
    "Data = {'ProductA': [25,30,28,32,26,29,27,33,31,28,30,29], 'ProductB': [40,35,38,41,37,36,39,42,38,37,40,36]}\n",
    "\n",
    "df = pd.DataFrame(Data)\n",
    "print(df)"
   ]
  },
  {
   "cell_type": "code",
   "execution_count": 55,
   "id": "2606d4c1",
   "metadata": {},
   "outputs": [
    {
     "data": {
      "text/plain": [
       "ProductA    29.00\n",
       "ProductB    38.25\n",
       "dtype: float64"
      ]
     },
     "execution_count": 55,
     "metadata": {},
     "output_type": "execute_result"
    }
   ],
   "source": [
    "df.mean()"
   ]
  },
  {
   "cell_type": "markdown",
   "id": "387f2cbd",
   "metadata": {},
   "source": [
    "### ProductB has a higher average monthly sales."
   ]
  },
  {
   "cell_type": "code",
   "execution_count": 56,
   "id": "7f7301b2",
   "metadata": {},
   "outputs": [
    {
     "data": {
      "text/plain": [
       "ProductA    29.0\n",
       "ProductB    38.0\n",
       "dtype: float64"
      ]
     },
     "execution_count": 56,
     "metadata": {},
     "output_type": "execute_result"
    }
   ],
   "source": [
    "df.median() "
   ]
  },
  {
   "cell_type": "markdown",
   "id": "61452064",
   "metadata": {},
   "source": [
    "### ProductB has a higher median, indicating that the sales distribution tends to be higher on average."
   ]
  },
  {
   "cell_type": "code",
   "execution_count": 57,
   "id": "21e93a17",
   "metadata": {},
   "outputs": [
    {
     "data": {
      "text/html": [
       "<div>\n",
       "<style scoped>\n",
       "    .dataframe tbody tr th:only-of-type {\n",
       "        vertical-align: middle;\n",
       "    }\n",
       "\n",
       "    .dataframe tbody tr th {\n",
       "        vertical-align: top;\n",
       "    }\n",
       "\n",
       "    .dataframe thead th {\n",
       "        text-align: right;\n",
       "    }\n",
       "</style>\n",
       "<table border=\"1\" class=\"dataframe\">\n",
       "  <thead>\n",
       "    <tr style=\"text-align: right;\">\n",
       "      <th></th>\n",
       "      <th>ProductA</th>\n",
       "      <th>ProductB</th>\n",
       "    </tr>\n",
       "  </thead>\n",
       "  <tbody>\n",
       "    <tr>\n",
       "      <th>0</th>\n",
       "      <td>28.0</td>\n",
       "      <td>36</td>\n",
       "    </tr>\n",
       "    <tr>\n",
       "      <th>1</th>\n",
       "      <td>29.0</td>\n",
       "      <td>37</td>\n",
       "    </tr>\n",
       "    <tr>\n",
       "      <th>2</th>\n",
       "      <td>30.0</td>\n",
       "      <td>38</td>\n",
       "    </tr>\n",
       "    <tr>\n",
       "      <th>3</th>\n",
       "      <td>NaN</td>\n",
       "      <td>40</td>\n",
       "    </tr>\n",
       "  </tbody>\n",
       "</table>\n",
       "</div>"
      ],
      "text/plain": [
       "   ProductA  ProductB\n",
       "0      28.0        36\n",
       "1      29.0        37\n",
       "2      30.0        38\n",
       "3       NaN        40"
      ]
     },
     "execution_count": 57,
     "metadata": {},
     "output_type": "execute_result"
    }
   ],
   "source": [
    "df.mode()"
   ]
  },
  {
   "cell_type": "markdown",
   "id": "d21cbd9d",
   "metadata": {},
   "source": [
    "## Significance of the mode:\n",
    "### ProductA has multiple modes, indicating that there are multiple values occurring with the highest frequency.\n",
    "### ProductB has multiple modes, indicating that there are multiple values occurring with the highest frequency."
   ]
  },
  {
   "cell_type": "code",
   "execution_count": 58,
   "id": "4d247107",
   "metadata": {},
   "outputs": [
    {
     "name": "stdout",
     "output_type": "stream",
     "text": [
      "28.999999999999996\n",
      "38.25\n"
     ]
    }
   ],
   "source": [
    "WA = (df['ProductA'] * (1 / len(df))).sum()\n",
    "WB = (df['ProductB'] * (1 / len(df))).sum()\n",
    "\n",
    "print(WA)\n",
    "print(WB)"
   ]
  },
  {
   "cell_type": "markdown",
   "id": "35c6334f",
   "metadata": {},
   "source": [
    "## Implications of using weighted mean:\n",
    "### Assuming each month has an equal weight implies that each month contributes equally to the overall mean.\n",
    "### In this context, the weighted mean provides a simple average that does not give more importance to certain months."
   ]
  },
  {
   "cell_type": "markdown",
   "id": "20a28e5c",
   "metadata": {},
   "source": [
    "# Measures of Dispersion"
   ]
  },
  {
   "cell_type": "code",
   "execution_count": 59,
   "id": "5b2ac864",
   "metadata": {},
   "outputs": [
    {
     "name": "stdout",
     "output_type": "stream",
     "text": [
      "8\n",
      "7\n"
     ]
    }
   ],
   "source": [
    "RA = df['ProductA'].max() - df['ProductA'].min()\n",
    "RB = df['ProductB'].max() - df['ProductB'].min()\n",
    "\n",
    "print(RA)\n",
    "print(RB)"
   ]
  },
  {
   "cell_type": "markdown",
   "id": "f3ad7144",
   "metadata": {},
   "source": [
    "## Discussion on variability:\n",
    "\n",
    "### A larger range suggests greater variability or dispersion in sales, indicating potential fluctuations or outliers.\n",
    "### A smaller range suggests less variability, implying more consistent sales figures throughout the period."
   ]
  },
  {
   "cell_type": "code",
   "execution_count": 60,
   "id": "61979194",
   "metadata": {},
   "outputs": [
    {
     "data": {
      "text/plain": [
       "ProductA    5.636364\n",
       "ProductB    4.750000\n",
       "dtype: float64"
      ]
     },
     "execution_count": 60,
     "metadata": {},
     "output_type": "execute_result"
    }
   ],
   "source": [
    "df.var()"
   ]
  },
  {
   "cell_type": "markdown",
   "id": "eaebc616",
   "metadata": {},
   "source": [
    "## Discussion on spread of sales:\n",
    "### A higher variance indicates greater dispersion or variability in sales values.\n",
    "### A lower variance suggests less spread, indicating more consistency in sales."
   ]
  },
  {
   "cell_type": "code",
   "execution_count": 61,
   "id": "43e716f2",
   "metadata": {},
   "outputs": [
    {
     "data": {
      "text/plain": [
       "ProductA    2.374103\n",
       "ProductB    2.179449\n",
       "dtype: float64"
      ]
     },
     "execution_count": 61,
     "metadata": {},
     "output_type": "execute_result"
    }
   ],
   "source": [
    "df.std()"
   ]
  },
  {
   "cell_type": "markdown",
   "id": "985b26fe",
   "metadata": {},
   "source": [
    "## Discussion on variability:\n",
    "### A higher standard deviation indicates greater variability or spread in sales values.\n",
    "### A lower standard deviation suggests less variability, indicating more consistency in sales."
   ]
  },
  {
   "cell_type": "markdown",
   "id": "c6204e00",
   "metadata": {},
   "source": [
    "# Relative Measures of Dispersion"
   ]
  },
  {
   "cell_type": "code",
   "execution_count": 62,
   "id": "67d4c8dd",
   "metadata": {},
   "outputs": [
    {
     "name": "stdout",
     "output_type": "stream",
     "text": [
      "8.186561038997239\n",
      "5.697907115739443\n"
     ]
    }
   ],
   "source": [
    "meanA = df['ProductA'].mean()\n",
    "stdA = df['ProductA'].std()\n",
    "cvA = (stdA / meanA) * 100\n",
    "\n",
    "meanB = df['ProductB'].mean()\n",
    "stdB = df['ProductB'].std()\n",
    "cvB = (stdB / meanB) * 100\n",
    "\n",
    "print(cvA)\n",
    "print(cvB)"
   ]
  },
  {
   "cell_type": "markdown",
   "id": "881aadb4",
   "metadata": {},
   "source": [
    "## Discussion on comparing variability:\n",
    "### The coefficient of variation provides a normalized measure of dispersion, allowing for comparison between products with different average sales.\n",
    "### A higher coefficient of variation indicates higher relative variability, while a lower coefficient of variation suggests lower relative variability."
   ]
  },
  {
   "cell_type": "code",
   "execution_count": 63,
   "id": "e5a35a28",
   "metadata": {},
   "outputs": [
    {
     "name": "stdout",
     "output_type": "stream",
     "text": [
      "18.30065359477124\n"
     ]
    }
   ],
   "source": [
    "rrB = (RB / meanB) * 100\n",
    "\n",
    "print(rrB)"
   ]
  },
  {
   "cell_type": "markdown",
   "id": "f69a6ec4",
   "metadata": {},
   "source": [
    "## Discussion on relative range:\n",
    "### The relative range is a normalized measure of dispersion that accounts for the scale of the data.\n",
    "### By dividing the range by the mean and expressing it as a percentage, the relative range provides a relative measure of how spread out the data is.\n",
    "### This is useful for comparing the variability of ProductB in a way that considers the scale of its sales values."
   ]
  },
  {
   "cell_type": "code",
   "execution_count": 64,
   "id": "2c9a91fa",
   "metadata": {},
   "outputs": [
    {
     "name": "stdout",
     "output_type": "stream",
     "text": [
      "8.186561038997239\n"
     ]
    }
   ],
   "source": [
    "rsdA = cvA\n",
    "\n",
    "print(rsdA)"
   ]
  },
  {
   "cell_type": "markdown",
   "id": "43f13871",
   "metadata": {},
   "source": [
    "## Interpretation and implications:\n",
    "### The relative standard deviation expresses the standard deviation as a percentage of the mean.\n",
    "### A relative standard deviation of 8.19% for ProductA suggests that the sales values are spread out by this percentage relative to the mean.\n",
    "### This measure provides a normalized way of understanding the variability of ProductA, accounting for the scale of the data."
   ]
  }
 ],
 "metadata": {
  "kernelspec": {
   "display_name": "Python 3 (ipykernel)",
   "language": "python",
   "name": "python3"
  },
  "language_info": {
   "codemirror_mode": {
    "name": "ipython",
    "version": 3
   },
   "file_extension": ".py",
   "mimetype": "text/x-python",
   "name": "python",
   "nbconvert_exporter": "python",
   "pygments_lexer": "ipython3",
   "version": "3.11.5"
  }
 },
 "nbformat": 4,
 "nbformat_minor": 5
}
