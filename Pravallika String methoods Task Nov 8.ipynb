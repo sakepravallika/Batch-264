{
 "cells": [
  {
   "cell_type": "code",
   "execution_count": 50,
   "id": "53e75b09",
   "metadata": {},
   "outputs": [
    {
     "name": "stdout",
     "output_type": "stream",
     "text": [
      "Valli is Good Girl\n"
     ]
    }
   ],
   "source": [
    "def my_join(separator, iterable):\n",
    "    \"\"\"\n",
    "    Custom string join function.\n",
    "    Parameters:\n",
    "    separator (str): The string that will be used to concatenate the elements.\n",
    "    iterable (iterable): An iterable (e.g., list, tuple) containing the elements to be joined.\n",
    "    Returns:\n",
    "    str: A string resulting from concatenating the elements in the iterable with the separator.\n",
    "    \"\"\"\n",
    "    if not iterable: # Check if the iterable is not empty\n",
    "        return \"\"\n",
    "    result = str(iterable[0]) # Initialize the result string with the first element\n",
    "    for element in iterable[1:]: # Iterate over the remaining elements and concatenate them with the separator\n",
    "        result += separator + str(element)\n",
    "    return result\n",
    "# Example usage:\n",
    "words = [\"Valli\", \"is\", \"Good\", \"Girl\"]\n",
    "result = my_join(\" \", words)\n",
    "print(result)"
   ]
  },
  {
   "cell_type": "code",
   "execution_count": 31,
   "id": "fc10c253",
   "metadata": {},
   "outputs": [
    {
     "name": "stdout",
     "output_type": "stream",
     "text": [
      "\n",
      "    Custom string join function.\n",
      "    Parameters:\n",
      "    separator (str): The string that will be used to concatenate the elements.\n",
      "    iterable (iterable): An iterable (e.g., list, tuple) containing the elements to be joined.\n",
      "    Returns:\n",
      "    str: A string resulting from concatenating the elements in the iterable with the separator.\n",
      "    \n"
     ]
    }
   ],
   "source": [
    "print(my_join.__doc__)"
   ]
  },
  {
   "cell_type": "code",
   "execution_count": 51,
   "id": "79ff3dfe",
   "metadata": {},
   "outputs": [
    {
     "name": "stdout",
     "output_type": "stream",
     "text": [
      "Original String: '   Hello, Valli!   '\n",
      "Stripped String: 'Hello, Valli!'\n"
     ]
    }
   ],
   "source": [
    "def my_strip(input_string, characters_to_remove=None):\n",
    "    \"\"\"\n",
    "    Custom implementation of strip() method in Python.\n",
    "    Parameters:\n",
    "    input_string: The string to be stripped.\n",
    "    characters_to_remove (optional): A string specifying the characters to be removed. \n",
    "    If not provided, it removes leading and trailing whitespaces.\n",
    "    Returns:\n",
    "    - The stripped string.\n",
    "    \"\"\"\n",
    "    if characters_to_remove is None: # If characters_to_remove is not provided, default to removing whitespaces\n",
    "        characters_to_remove = \" \\t\\n\\r\\f\\v\"\n",
    "    start = 0 # Remove leading characters\n",
    "    while start < len(input_string) and input_string[start] in characters_to_remove:\n",
    "        start += 1\n",
    "    end = len(input_string) - 1 # Remove trailing characters\n",
    "    while end >= 0 and input_string[end] in characters_to_remove:\n",
    "        end -= 1\n",
    "    return input_string[start:end + 1] # Return the stripped substring\n",
    "# Example usage:\n",
    "original_string = \"   Hello, Valli!   \"\n",
    "stripped_string = my_strip(original_string)\n",
    "print(\"Original String:\", repr(original_string))\n",
    "print(\"Stripped String:\", repr(stripped_string))"
   ]
  },
  {
   "cell_type": "code",
   "execution_count": 54,
   "id": "3e7ad250",
   "metadata": {},
   "outputs": [
    {
     "name": "stdout",
     "output_type": "stream",
     "text": [
      "\n",
      "    Custom implementation of strip() method in Python.\n",
      "    Parameters:\n",
      "    input_string: The string to be stripped.\n",
      "    characters_to_remove (optional): A string specifying the characters to be removed. \n",
      "    If not provided, it removes leading and trailing whitespaces.\n",
      "    Returns:\n",
      "    - The stripped string.\n",
      "    \n"
     ]
    }
   ],
   "source": [
    "print(my_strip.__doc__)"
   ]
  },
  {
   "cell_type": "code",
   "execution_count": 52,
   "id": "2f8efcd7",
   "metadata": {},
   "outputs": [
    {
     "name": "stdout",
     "output_type": "stream",
     "text": [
      "Hello, Valli!   \n"
     ]
    }
   ],
   "source": [
    "def my_lstrip(s, chars=None):\n",
    "    \"\"\"\n",
    "    Custom implementation of lstrip method.\n",
    "    Parameters:\n",
    "    s (str): The input string from which leading characters will be removed.\n",
    "    chars (str, optional): The characters to be stripped. If not provided,\n",
    "    whitespaces are removed by default.\n",
    "    Returns:\n",
    "    str: The string with leading characters removed.\n",
    "    \"\"\"\n",
    "    if chars is None: # If chars is not provided, initialize it with whitespaces\n",
    "        chars = ' '\n",
    "    index = 0 # Initialize the index to keep track of the characters to be stripped\n",
    "    while index < len(s) and s[index] in chars: # Loop through the string until a character not in chars is encountered\n",
    "        index += 1\n",
    "    return s[index:] # Return the substring starting from the first character not in chars\n",
    "# Example usage:\n",
    "original_string = \"   Hello, Valli!   \"\n",
    "result = my_lstrip(original_string)\n",
    "print(result)"
   ]
  },
  {
   "cell_type": "code",
   "execution_count": 49,
   "id": "62d165f4",
   "metadata": {},
   "outputs": [
    {
     "name": "stdout",
     "output_type": "stream",
     "text": [
      "\n",
      "    Custom implementation of lstrip method.\n",
      "    Parameters:\n",
      "    s (str): The input string from which leading characters will be removed.\n",
      "    chars (str, optional): The characters to be stripped. If not provided,\n",
      "    whitespaces are removed by default.\n",
      "    Returns:\n",
      "    str: The string with leading characters removed.\n",
      "    \n"
     ]
    }
   ],
   "source": [
    "print(my_lstrip.__doc__)"
   ]
  },
  {
   "cell_type": "code",
   "execution_count": 53,
   "id": "3562d0fe",
   "metadata": {},
   "outputs": [
    {
     "name": "stdout",
     "output_type": "stream",
     "text": [
      "Original String: '   Hello, Valli   \t\n",
      "'\n",
      "My Rstrip Result: '   Hello, Valli'\n"
     ]
    }
   ],
   "source": [
    "def my_rstrip(input_string):\n",
    "    \"\"\"\n",
    "    Custom implementation of the rstrip method.\n",
    "    Removes trailing whitespaces (spaces, tabs, and newline characters)\n",
    "    from the right end of the input string.\n",
    "    Parameters:\n",
    "    input_string (str): The string from which trailing whitespaces should be removed.\n",
    "    Returns:\n",
    "    str: The input string with trailing whitespaces removed.\n",
    "    \"\"\"\n",
    "    index = len(input_string) - 1 # Initialize the index to the last character of the string\n",
    "    while index >= 0 and input_string[index].isspace(): # Iterate from the right end of the string\n",
    "        index -= 1\n",
    "    return input_string[:index + 1] # Return the substring up to the last non-whitespace character\n",
    "# Example usage:\n",
    "original_string = \"   Hello, Valli   \\t\\n\"\n",
    "result = my_rstrip(original_string)\n",
    "print(f\"Original String: '{original_string}'\")\n",
    "print(f\"My Rstrip Result: '{result}'\")"
   ]
  },
  {
   "cell_type": "code",
   "execution_count": 55,
   "id": "2b24b631",
   "metadata": {},
   "outputs": [
    {
     "name": "stdout",
     "output_type": "stream",
     "text": [
      "\n",
      "    Custom implementation of the rstrip method.\n",
      "    Removes trailing whitespaces (spaces, tabs, and newline characters)\n",
      "    from the right end of the input string.\n",
      "    Parameters:\n",
      "    input_string (str): The string from which trailing whitespaces should be removed.\n",
      "    Returns:\n",
      "    str: The input string with trailing whitespaces removed.\n",
      "    \n"
     ]
    }
   ],
   "source": [
    "print(my_rstrip.__doc__)"
   ]
  },
  {
   "cell_type": "code",
   "execution_count": 56,
   "id": "5af775a1",
   "metadata": {},
   "outputs": [
    {
     "name": "stdout",
     "output_type": "stream",
     "text": [
      "Original String: 'Valli'\n",
      "Left-Justified Result: 'Valli     '\n"
     ]
    }
   ],
   "source": [
    "def my_ljust(input_string, width, fillchar=' '):\n",
    "    \"\"\"\n",
    "    Custom implementation of the ljust method.\n",
    "    Parameters:\n",
    "    input_string: The original string to be left-justified.\n",
    "    width: The width of the resulting string, including the original string and padding.\n",
    "    fillchar: The character used for padding (default is space ' ').\n",
    "    Returns:\n",
    "    A left-justified string with padding on the right side.\n",
    "    \"\"\"\n",
    "    padding_length = max(0, width - len(input_string)) # Calculate the number of characters needed for padding\n",
    "    result_string = input_string + fillchar * padding_length # Concatenate the original string with the padding characters\n",
    "    return result_string\n",
    "# Example usage:\n",
    "original_string = \"Valli\"\n",
    "width = 10\n",
    "result = my_ljust(original_string, width) # Using the custom ljust function\n",
    "print(f\"Original String: '{original_string}'\") # Display the result\n",
    "print(f\"Left-Justified Result: '{result}'\")"
   ]
  },
  {
   "cell_type": "code",
   "execution_count": 57,
   "id": "d61352d8",
   "metadata": {},
   "outputs": [
    {
     "name": "stdout",
     "output_type": "stream",
     "text": [
      "\n",
      "    Custom implementation of the ljust method.\n",
      "    Parameters:\n",
      "    input_string: The original string to be left-justified.\n",
      "    width: The width of the resulting string, including the original string and padding.\n",
      "    fillchar: The character used for padding (default is space ' ').\n",
      "    Returns:\n",
      "    A left-justified string with padding on the right side.\n",
      "    \n"
     ]
    }
   ],
   "source": [
    "print(my_ljust.__doc__)"
   ]
  },
  {
   "cell_type": "code",
   "execution_count": 59,
   "id": "bad9592c",
   "metadata": {},
   "outputs": [
    {
     "name": "stdout",
     "output_type": "stream",
     "text": [
      "     hello\n",
      "-----valli\n"
     ]
    }
   ],
   "source": [
    "def my_rjust(input_str, width, fillchar=' '):\n",
    "    \"\"\"\n",
    "    Right-justifies the given string within the specified width.\n",
    "    Parameters:\n",
    "    input_str (str): The input string to be right-justified.\n",
    "    width (int): The width of the resulting string.\n",
    "    fillchar (str, optional): The character used for padding (default is space ' ').\n",
    "    Returns:\n",
    "    str: The right-justified string.\n",
    "    Example:\n",
    "    >>> custom_rjust('hello', 10)\n",
    "    '     hello'\n",
    "    >>> custom_rjust('world', 10, '-')\n",
    "    '-----world'\n",
    "    \"\"\"\n",
    "    if not isinstance(input_str, str): # Check if the input is a string\n",
    "        raise TypeError(\"Input must be a string\")\n",
    "    padding_width = max(0, width - len(input_str)) # Calculate the amount of padding needed\n",
    "    result_str = fillchar * padding_width + input_str # Perform the right justification\n",
    "    return result_str\n",
    "# Example usage\n",
    "result1 = my_rjust('hello', 10)\n",
    "result2 = my_rjust('valli', 10, '-')\n",
    "print(result1)  # Output: '     hello'\n",
    "print(result2)  # Output: '-----valli'"
   ]
  },
  {
   "cell_type": "code",
   "execution_count": 60,
   "id": "6f3aedf9",
   "metadata": {},
   "outputs": [
    {
     "name": "stdout",
     "output_type": "stream",
     "text": [
      "\n",
      "    Right-justifies the given string within the specified width.\n",
      "    Parameters:\n",
      "    input_str (str): The input string to be right-justified.\n",
      "    width (int): The width of the resulting string.\n",
      "    fillchar (str, optional): The character used for padding (default is space ' ').\n",
      "    Returns:\n",
      "    str: The right-justified string.\n",
      "    Example:\n",
      "    >>> custom_rjust('hello', 10)\n",
      "    '     hello'\n",
      "    >>> custom_rjust('world', 10, '-')\n",
      "    '-----world'\n",
      "    \n"
     ]
    }
   ],
   "source": [
    "print(my_rjust.__doc__)"
   ]
  },
  {
   "cell_type": "code",
   "execution_count": 61,
   "id": "1562eb13",
   "metadata": {},
   "outputs": [
    {
     "name": "stdout",
     "output_type": "stream",
     "text": [
      "hELLO, vALLI!\n"
     ]
    }
   ],
   "source": [
    "def my_swapcase(input_string):\n",
    "    \"\"\"\n",
    "    Swap the case of each character in the input string.\n",
    "    Parameters:\n",
    "    input_string (str): The string for which the case of each character will be swapped.\n",
    "    Returns:\n",
    "    str: A new string with the case of each character swapped.\n",
    "    \"\"\"\n",
    "    swapped_string = \"\" # Initialize an empty string to store the result\n",
    "    for char in input_string: # Iterate through each character in the input string\n",
    "        if char.isupper(): # Check if the character is uppercase and convert to lowercase, or vice versa\n",
    "            swapped_string += char.lower()\n",
    "        elif char.islower():\n",
    "            swapped_string += char.upper()\n",
    "        else:\n",
    "            swapped_string += char # If the character is not a letter, leave it unchanged\n",
    "    return swapped_string\n",
    "# Example usage:\n",
    "original_string = \"Hello, Valli!\"\n",
    "result = my_swapcase(original_string)\n",
    "print(result)"
   ]
  },
  {
   "cell_type": "code",
   "execution_count": 62,
   "id": "06f94900",
   "metadata": {},
   "outputs": [
    {
     "name": "stdout",
     "output_type": "stream",
     "text": [
      "\n",
      "    Swap the case of each character in the input string.\n",
      "    Parameters:\n",
      "    input_string (str): The string for which the case of each character will be swapped.\n",
      "    Returns:\n",
      "    str: A new string with the case of each character swapped.\n",
      "    \n"
     ]
    }
   ],
   "source": [
    "print(my_swapcase.__doc__)"
   ]
  },
  {
   "cell_type": "code",
   "execution_count": 63,
   "id": "ba67a9d6",
   "metadata": {},
   "outputs": [
    {
     "name": "stdout",
     "output_type": "stream",
     "text": [
      "123def\n"
     ]
    }
   ],
   "source": [
    "def my_maketrans(from_chars, to_chars):\n",
    "    \"\"\"\n",
    "    Create a translation table for str.translate().\n",
    "    Args:\n",
    "        from_chars (str): A string containing the characters to be replaced.\n",
    "        to_chars (str): A string containing the corresponding replacement characters.\n",
    "    Returns:\n",
    "        dict: A translation table that can be used with str.translate().\n",
    "    \"\"\"\n",
    "    if len(from_chars) != len(to_chars): # Check if the lengths of from_chars and to_chars are the same\n",
    "        raise ValueError(\"from_chars and to_chars must have the same length\")\n",
    "    translation_table = {ord(from_char): to_char for from_char, to_char in zip(from_chars, to_chars)} # Create a dictionary mapping each character in from_chars to its corresponding character in to_chars\n",
    "    return translation_table\n",
    "# Example usage:\n",
    "from_chars = \"abc\"\n",
    "to_chars = \"123\"\n",
    "translation_table = my_maketrans(from_chars, to_chars)\n",
    "original_string = \"abcdef\" # Now you can use this translation table with str.translate()\n",
    "translated_string = original_string.translate(translation_table)\n",
    "print(translated_string)"
   ]
  },
  {
   "cell_type": "code",
   "execution_count": 64,
   "id": "297e8b6c",
   "metadata": {},
   "outputs": [
    {
     "name": "stdout",
     "output_type": "stream",
     "text": [
      "\n",
      "    Create a translation table for str.translate().\n",
      "    Args:\n",
      "        from_chars (str): A string containing the characters to be replaced.\n",
      "        to_chars (str): A string containing the corresponding replacement characters.\n",
      "    Returns:\n",
      "        dict: A translation table that can be used with str.translate().\n",
      "    \n"
     ]
    }
   ],
   "source": [
    "print(my_maketrans.__doc__)"
   ]
  },
  {
   "cell_type": "code",
   "execution_count": 65,
   "id": "bbe74157",
   "metadata": {},
   "outputs": [
    {
     "name": "stdout",
     "output_type": "stream",
     "text": [
      "vALLI\n"
     ]
    }
   ],
   "source": [
    "def my_translate(input_string, translation_table):\n",
    "    \"\"\"\n",
    "    Translate characters in the input string based on the provided translation table.\n",
    "    Args:\n",
    "        input_string (str): The string to be translated.\n",
    "        translation_table (dict): A dictionary where keys are characters to be replaced, \n",
    "                                  and values are the corresponding replacement characters.\n",
    "    Returns:\n",
    "        str: The translated string.\n",
    "    Example:\n",
    "        >>> translation_table = {'H': 'h', 'e': 'E', 'l': 'L', 'o': 'O'}\n",
    "        >>> custom_translate(\"Hello\", translation_table)\n",
    "        'hELLO'\n",
    "    \"\"\"\n",
    "    translated_string = \"\"\n",
    "    for char in input_string: # Iterate through each character in the input string\n",
    "        # Use the translation_table to get the replacement, or keep the original character if not found\n",
    "        translated_char = translation_table.get(char, char)  \n",
    "        translated_string += translated_char # Append the translated character to the result string\n",
    "    return translated_string\n",
    "# Example usage:\n",
    "translation_table = {'V': 'v', 'a': 'A', 'l': 'L', 'i': 'I'}\n",
    "result = my_translate(\"Valli\", translation_table)\n",
    "print(result)"
   ]
  },
  {
   "cell_type": "code",
   "execution_count": 66,
   "id": "d2d877c5",
   "metadata": {},
   "outputs": [
    {
     "name": "stdout",
     "output_type": "stream",
     "text": [
      "\n",
      "    Translate characters in the input string based on the provided translation table.\n",
      "    Args:\n",
      "        input_string (str): The string to be translated.\n",
      "        translation_table (dict): A dictionary where keys are characters to be replaced, \n",
      "                                  and values are the corresponding replacement characters.\n",
      "    Returns:\n",
      "        str: The translated string.\n",
      "    Example:\n",
      "        >>> translation_table = {'H': 'h', 'e': 'E', 'l': 'L', 'o': 'O'}\n",
      "        >>> custom_translate(\"Hello\", translation_table)\n",
      "        'hELLO'\n",
      "    \n"
     ]
    }
   ],
   "source": [
    "print(my_translate.__doc__)"
   ]
  }
 ],
 "metadata": {
  "kernelspec": {
   "display_name": "Python 3 (ipykernel)",
   "language": "python",
   "name": "python3"
  },
  "language_info": {
   "codemirror_mode": {
    "name": "ipython",
    "version": 3
   },
   "file_extension": ".py",
   "mimetype": "text/x-python",
   "name": "python",
   "nbconvert_exporter": "python",
   "pygments_lexer": "ipython3",
   "version": "3.11.5"
  }
 },
 "nbformat": 4,
 "nbformat_minor": 5
}
