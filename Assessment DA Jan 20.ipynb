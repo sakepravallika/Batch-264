{
 "cells": [
  {
   "cell_type": "code",
   "execution_count": 1,
   "id": "8a8bef34",
   "metadata": {},
   "outputs": [
    {
     "name": "stdout",
     "output_type": "stream",
     "text": [
      "True\n"
     ]
    }
   ],
   "source": [
    "def foo(x): # The function foo(x) takes a list x as an argument and modifies its elements.\n",
    "    x[0] = ['def'] # x[0] is assigned ['def']\n",
    "    x[1] = ['abc'] # x[1] is assigned ['abc'].\n",
    "    return id(x) # The function returns the identity of the modified list x using the id() function.\n",
    "q = ['abc', 'def'] # q is initially assigned the list ['abc', 'def'].\n",
    "print(id(q) == foo(q)) # Finally, it prints whether the identity of q is equal to the value returned by foo(q).\n",
    "\n",
    "# q is modified inside the function foo(), and since lists are mutable in Python,the changes made to q persist outside the function.\n",
    "# The id(q) returns the identity of the modified list q inside the function.\n",
    "# Therefore, id(q) == foo(q) is expected to be True.\n",
    "# This is because the identity of the list q is indeed the same as the value returned by the foo() function, as both refer to the same modified list."
   ]
  },
  {
   "cell_type": "code",
   "execution_count": 2,
   "id": "203d0312",
   "metadata": {},
   "outputs": [
    {
     "name": "stdout",
     "output_type": "stream",
     "text": [
      "2\n"
     ]
    }
   ],
   "source": [
    "def fun():\n",
    "    try:\n",
    "        return 1\n",
    "    finally:\n",
    "        return 2\n",
    "k = fun()\n",
    "print(k)\n",
    "\n",
    "# In this code, the fun() function contains both a try block and a finally block. \n",
    "# The try block returns the value 1, and the finally block returns the value 2. \n",
    "# When a finally block is present, it will always be executed, regardless of whether an exception was raised in the try block or not.\n",
    "\n",
    "# Since the finally block always executes, \n",
    "# the final result of the function is the value returned in the finally block (2 in this case).\n",
    "\n",
    "# Therefore, when you call fun() and assign the result to k, the value of k will be 2. "
   ]
  },
  {
   "cell_type": "code",
   "execution_count": 3,
   "id": "a3f37370",
   "metadata": {},
   "outputs": [
    {
     "name": "stdout",
     "output_type": "stream",
     "text": [
      "Local\n"
     ]
    }
   ],
   "source": [
    "def func(): # you define a function func() that uses the global keyword to refer to the global variable value\n",
    "    global value # you have a global variable value initially set to \"Global\".\n",
    "    value = \"Local\" # assign it the value \"Local\".\n",
    "\n",
    "value = \"Global\" # value is initially set to \"Global.\"\n",
    "func() # The function func() is called, which changes the value of the global variable value to \"Local\" using the global keyword.\n",
    "print(value) # print the value of the global variable value outside the function."
   ]
  },
  {
   "cell_type": "markdown",
   "id": "ce8a9881",
   "metadata": {},
   "source": [
    "## 4) __________ exceptions are raised as a result of an error in opening a particular file\n",
    "\n",
    "a) ValueError\n",
    "b) TypeError\n",
    "c) ImportError\n",
    "d) IOError\n",
    "\n",
    "a) ValueError: ValueError is generally raised when a built-in operation or function receives an argument of the correct type but an inappropriate value. It is not specifically related to file operations.\n",
    "\n",
    "b) TypeError: TypeError occurs when an operation or function is applied to an object of an inappropriate type. Similar to ValueError, it's not directly related to file operations.\n",
    "\n",
    "c) ImportError: ImportError is raised when there is an error in importing a module. It is not specifically related to file operations.\n",
    "\n",
    "d) IOError: IOError, or Input/Output Error, is raised when there's an issue with input or output operations, such as opening, reading, or writing to a file. It is commonly associated with file-related errors, including problems with opening a file.\n",
    "\n",
    "In the context of the question, when there is an error in opening a particular file, the appropriate exception to be raised is IOError. This exception indicates that there's an issue with the input/output operations involving the file, such as if the file doesn't exist or if there are permission issues.\n",
    "\n",
    "So, the correct answer is d) IOError."
   ]
  },
  {
   "cell_type": "markdown",
   "id": "86fd31f4",
   "metadata": {},
   "source": [
    "## 5) In python we do not specify types, it is directly interpreted by the compiler, so consider the following operation to be performed\n",
    "\n",
    "a) x = 13 // 2\n",
    "b) x = int(13 / 2)\n",
    "c) x = 13 % 2\n",
    "d) All of the mentioned\n",
    "\n",
    "In Python, the type of a variable is dynamically determined at runtime, and you don't need to explicitly specify types in most cases. Let's analyze the given operations:\n",
    "\n",
    "a) x = 13 // 2: This performs integer division, and the result is 6 (the floor division of 13 by 2). The type of x will be an integer.\n",
    "\n",
    "b) x = int(13 / 2): Here, you're explicitly converting the result of the division to an integer using the int() function. The result is 6, and the type of x will be an integer.\n",
    "\n",
    "c) x = 13 % 2: This performs the modulus operation, and the result is 1. The type of x will be an integer.\n",
    "\n",
    "So, all three options involve integer operations, and the type of x in all cases will be an integer. Therefore, the correct answer is:\n",
    "\n",
    "d) All of the mentioned"
   ]
  },
  {
   "cell_type": "code",
   "execution_count": 5,
   "id": "5a8b5ab8",
   "metadata": {},
   "outputs": [
    {
     "ename": "NameError",
     "evalue": "name 't' is not defined",
     "output_type": "error",
     "traceback": [
      "\u001b[1;31m---------------------------------------------------------------------------\u001b[0m",
      "\u001b[1;31mNameError\u001b[0m                                 Traceback (most recent call last)",
      "Cell \u001b[1;32mIn[5], line 1\u001b[0m\n\u001b[1;32m----> 1\u001b[0m t[\u001b[38;5;241m5\u001b[39m]\n",
      "\u001b[1;31mNameError\u001b[0m: name 't' is not defined"
     ]
    }
   ],
   "source": [
    "t[5]"
   ]
  },
  {
   "cell_type": "markdown",
   "id": "ff346862",
   "metadata": {},
   "source": [
    "The expression t[5] refers to indexing an element at position 5 in a sequence t. Here are the possibilities for the given options:\n",
    "\n",
    "a) IndexError: This error occurs when you try to access an index that is out of range for the given sequence. If t has less than 6 elements (indexing is 0-based), attempting to access t[5] will result in an IndexError.\n",
    "\n",
    "b) NameError: This error occurs when trying to use a variable or a name that is not defined. If t is not defined before using t[5], a NameError will occur.\n",
    "\n",
    "c) TypeError: This error occurs when an operation is applied to an object of an inappropriate type. However, indexing is not related to type errors directly.\n",
    "\n",
    "d) SyntaxError: This error occurs due to a mistake in the syntax of the code. It is not applicable here since t[5] is syntactically correct.\n",
    "\n",
    "Given the context, the most appropriate option is:\n",
    "\n",
    "a) IndexError"
   ]
  },
  {
   "cell_type": "markdown",
   "id": "076a646b",
   "metadata": {},
   "source": [
    "## 7) A while loop is used for indefinite iteration.\n",
    "\n",
    "Here's what each term means in the context of loops:\n",
    "\n",
    "a) Indefinite: A loop where the number of iterations is not known in advance, and the loop continues until a certain condition is met.\n",
    "\n",
    "b) Discriminant: This term is not commonly used in the context of loops. It generally refers to a feature that distinguishes different cases.\n",
    "\n",
    "c) Definite: A loop where the number of iterations is known in advance, and the loop continues for a specified number of times.\n",
    "\n",
    "d) Indeterminate: This term is often used interchangeably with \"indefinite\" in the context of loops. It means that the exact number of iterations is not determined beforehand.\n",
    "\n",
    "In the case of a while loop, it continues to iterate as long as a specified condition is true, making it an indefinite iteration. Therefore, the correct answer is:\n",
    "\n",
    "a) Indefinite"
   ]
  },
  {
   "cell_type": "code",
   "execution_count": 7,
   "id": "58b9505b",
   "metadata": {},
   "outputs": [
    {
     "ename": "NameError",
     "evalue": "name 'i' is not defined",
     "output_type": "error",
     "traceback": [
      "\u001b[1;31m---------------------------------------------------------------------------\u001b[0m",
      "\u001b[1;31mNameError\u001b[0m                                 Traceback (most recent call last)",
      "Cell \u001b[1;32mIn[7], line 3\u001b[0m\n\u001b[0;32m      1\u001b[0m x \u001b[38;5;241m=\u001b[39m \u001b[38;5;124m\"\u001b[39m\u001b[38;5;124mabcdef\u001b[39m\u001b[38;5;124m\"\u001b[39m\n\u001b[0;32m      2\u001b[0m \u001b[38;5;66;03m# You didn't initialize the variable i before using it in the while loop.\u001b[39;00m\n\u001b[1;32m----> 3\u001b[0m \u001b[38;5;28;01mwhile\u001b[39;00m i \u001b[38;5;129;01min\u001b[39;00m x: \u001b[38;5;66;03m# The while loop condition is using i in x, but since i is not defined\u001b[39;00m\n\u001b[0;32m      5\u001b[0m     \u001b[38;5;28mprint\u001b[39m(i, end\u001b[38;5;241m=\u001b[39m\u001b[38;5;124m\"\u001b[39m\u001b[38;5;124m \u001b[39m\u001b[38;5;124m\"\u001b[39m)\n",
      "\u001b[1;31mNameError\u001b[0m: name 'i' is not defined"
     ]
    }
   ],
   "source": [
    "x = \"abcdef\"\n",
    "# You didn't initialize the variable i before using it in the while loop.\n",
    "while i in x: # The while loop condition is using i in x, but since i is not defined\n",
    "    \n",
    "    print(i, end=\" \")\n",
    "    \n",
    "# Here's the issue:\n",
    "\n",
    "# it will result in a NameError. Additionally, if i were defined, the condition \n",
    "# would check whether the value of i is in the string x, which might not be the intended behavior."
   ]
  },
  {
   "cell_type": "markdown",
   "id": "540b5e20",
   "metadata": {},
   "source": [
    "9) Main advantage of using Decorators in python is to simplify the syntax of the decorated functions"
   ]
  },
  {
   "cell_type": "markdown",
   "id": "71bfd67c",
   "metadata": {},
   "source": [
    "10) If return statement is not used inside the function, the funtion will return None"
   ]
  },
  {
   "cell_type": "markdown",
   "id": "b3f202d9",
   "metadata": {},
   "source": [
    "## 11) When a function is defined inside a class it is called as method\n",
    "\n",
    "Class:\n",
    "\n",
    "A blueprint for creating objects.\n",
    "\n",
    "Function:\n",
    "\n",
    "A block of reusable code.\n",
    "\n",
    "Method:\n",
    "\n",
    "A function associated with a class.\n",
    "\n",
    "Module:\n",
    "\n",
    "A file containing reusable Python code."
   ]
  },
  {
   "cell_type": "markdown",
   "id": "2ae31e64",
   "metadata": {},
   "source": [
    "12) '.' operator is used in python to import modules from packages"
   ]
  },
  {
   "cell_type": "code",
   "execution_count": 8,
   "id": "0de33e01",
   "metadata": {},
   "outputs": [
    {
     "name": "stdout",
     "output_type": "stream",
     "text": [
      "6\n"
     ]
    }
   ],
   "source": [
    "def getMonth(m): # Defines a function named getMonth that takes a parameter m\n",
    "    if m<1 or m>12: # Checks if the value of m is less than 1 or greater than 12.\n",
    "        raise ValueError(\"Invalid\") # If the condition is true (i.e., m is not between 1 and 12), raises a ValueError with the message \"Invalid.\"\n",
    "    print(m) # If the condition is false, prints the value of m.\n",
    "getMonth(6) # Calls the getMonth function with the argument 6.\n",
    "\n",
    "# So, when you run the code with getMonth(6), it will print 6 without raising a ValueError."
   ]
  },
  {
   "cell_type": "markdown",
   "id": "fbef57f6",
   "metadata": {},
   "source": [
    "14) In python programming Language syntax error is detected by Interpreter at Run time"
   ]
  },
  {
   "cell_type": "code",
   "execution_count": 107,
   "id": "2be46fe0",
   "metadata": {},
   "outputs": [],
   "source": [
    "# In the provided code, you've defined a class named Book with an __init__ method that initializes \n",
    "# an instance of the class with an author attribute. Then, \n",
    "# you create two instances of the Book class, book1 and book2.\n",
    " \n",
    "class Book: # Defines a class named Book\n",
    "    def __init__(self,author): # __init__ method to initialize instances with an author attribute.\n",
    "            self.author=author\n",
    "book1=Book(\"V.M.Shah\") # Creates an instance of the Book class named book1 with the author set to \"V.M.Shah.\"\n",
    "book2=book1 # Creates another reference (book2) to the same object that book1 refers to. Both book1 and book2\n",
    "# now point to the same instance of the Book class.\n",
    "\n",
    "# Now, both book1 and book2 reference the same instance of the Book class, and \n",
    "# any changes made to the object through one variable will be reflected in the other."
   ]
  },
  {
   "cell_type": "code",
   "execution_count": 108,
   "id": "e523b9e6",
   "metadata": {},
   "outputs": [
    {
     "data": {
      "text/plain": [
       "2171143088720"
      ]
     },
     "execution_count": 108,
     "metadata": {},
     "output_type": "execute_result"
    }
   ],
   "source": [
    "id(book1)"
   ]
  },
  {
   "cell_type": "code",
   "execution_count": 109,
   "id": "23b2ee7f",
   "metadata": {},
   "outputs": [
    {
     "data": {
      "text/plain": [
       "2171143088720"
      ]
     },
     "execution_count": 109,
     "metadata": {},
     "output_type": "execute_result"
    }
   ],
   "source": [
    "id(book2)"
   ]
  },
  {
   "cell_type": "code",
   "execution_count": 90,
   "id": "3fad70c9",
   "metadata": {},
   "outputs": [
    {
     "name": "stdout",
     "output_type": "stream",
     "text": [
      "        Date  Category     Product CustomerID  Quantity  UnitPrice\n",
      "0 2024-01-01  Beverage  Cappuccino       C004         1        3.0\n",
      "1 2024-01-02      Food   Croissant       C002         2        2.0\n",
      "2 2024-01-03  Beverage    Espresso       C001         2        2.0\n",
      "3 2024-01-10  Beverage       Latte       C001         3        3.5\n",
      "4 2024-01-09  Beverage       Latte       C003         1        3.5\n",
      "5 2024-01-08      Food      Muffin       C002         1        2.5\n"
     ]
    }
   ],
   "source": [
    "import pandas as pd\n",
    "\n",
    "data = {\n",
    "    'Date': pd.to_datetime(['2024-01-01', '2024-01-02', '2024-01-03', '2024-01-10', '2024-01-09', '2024-01-08']),\n",
    "    'Category': ['Beverage', 'Food', 'Beverage', 'Beverage', 'Beverage', 'Food'],\n",
    "    'Product': ['Cappuccino', 'Croissant', 'Espresso', 'Latte', 'Latte', 'Muffin'],\n",
    "    'CustomerID': ['C004', 'C002', 'C001', 'C001', 'C003', 'C002'],\n",
    "    'Quantity': [1, 2, 2, 3, 1, 1],\n",
    "    'UnitPrice': [3, 2, 2, 3.5, 3.5, 2.5]\n",
    "}\n",
    "\n",
    "df = pd.DataFrame(data)\n",
    "\n",
    "print(df)"
   ]
  },
  {
   "cell_type": "code",
   "execution_count": 91,
   "id": "e99443d4",
   "metadata": {},
   "outputs": [],
   "source": [
    "# 16. Create a new column Revenue which has value equals to the Quantity * UnitPrice of the current row\n",
    "df['Revenue'] = df['Quantity'] * df['UnitPrice']"
   ]
  },
  {
   "cell_type": "code",
   "execution_count": 92,
   "id": "40b5cd80",
   "metadata": {},
   "outputs": [
    {
     "data": {
      "text/plain": [
       "Category\n",
       "Beverage    21.0\n",
       "Food         6.5\n",
       "Name: Revenue, dtype: float64"
      ]
     },
     "execution_count": 92,
     "metadata": {},
     "output_type": "execute_result"
    }
   ],
   "source": [
    "# 17. Categorical wise revenue\n",
    "df.groupby('Category')['Revenue'].sum()"
   ]
  },
  {
   "cell_type": "code",
   "execution_count": 93,
   "id": "09411f77",
   "metadata": {},
   "outputs": [
    {
     "data": {
      "text/plain": [
       "Date        Product   \n",
       "2024-01-01  Cappuccino    1.0\n",
       "2024-01-02  Croissant     2.0\n",
       "2024-01-03  Espresso      2.0\n",
       "2024-01-08  Muffin        1.0\n",
       "2024-01-09  Latte         1.0\n",
       "2024-01-10  Latte         3.0\n",
       "Name: Quantity, dtype: float64"
      ]
     },
     "execution_count": 93,
     "metadata": {},
     "output_type": "execute_result"
    }
   ],
   "source": [
    "# 18. average quantity wrt to date and product\n",
    "df.groupby(['Date', 'Product'])['Quantity'].mean()"
   ]
  },
  {
   "cell_type": "code",
   "execution_count": 94,
   "id": "4566e64c",
   "metadata": {},
   "outputs": [
    {
     "name": "stdout",
     "output_type": "stream",
     "text": [
      "21.0 6.5\n"
     ]
    }
   ],
   "source": [
    "# 19. average quantity wrt to date and product\n",
    "result = df.groupby('Category')['Revenue'].sum()\n",
    "\n",
    "print(result['Beverage'], result['Food'])"
   ]
  },
  {
   "cell_type": "code",
   "execution_count": 95,
   "id": "6e6c9dac",
   "metadata": {},
   "outputs": [],
   "source": [
    "# 20. using transform create a column which has a unitprice difference wrt its category mean\n",
    "df['UnitPriceDifference'] = df.groupby('Category')['UnitPrice'].transform(lambda x: x - x.mean())"
   ]
  },
  {
   "cell_type": "code",
   "execution_count": 96,
   "id": "c7795fce",
   "metadata": {},
   "outputs": [
    {
     "data": {
      "text/html": [
       "<div>\n",
       "<style scoped>\n",
       "    .dataframe tbody tr th:only-of-type {\n",
       "        vertical-align: middle;\n",
       "    }\n",
       "\n",
       "    .dataframe tbody tr th {\n",
       "        vertical-align: top;\n",
       "    }\n",
       "\n",
       "    .dataframe thead th {\n",
       "        text-align: right;\n",
       "    }\n",
       "</style>\n",
       "<table border=\"1\" class=\"dataframe\">\n",
       "  <thead>\n",
       "    <tr style=\"text-align: right;\">\n",
       "      <th></th>\n",
       "      <th>Date</th>\n",
       "      <th>Category</th>\n",
       "      <th>Product</th>\n",
       "      <th>CustomerID</th>\n",
       "      <th>Quantity</th>\n",
       "      <th>UnitPrice</th>\n",
       "      <th>Revenue</th>\n",
       "      <th>UnitPriceDifference</th>\n",
       "    </tr>\n",
       "  </thead>\n",
       "  <tbody>\n",
       "    <tr>\n",
       "      <th>0</th>\n",
       "      <td>2024-01-01</td>\n",
       "      <td>Beverage</td>\n",
       "      <td>Cappuccino</td>\n",
       "      <td>C004</td>\n",
       "      <td>1</td>\n",
       "      <td>3.0</td>\n",
       "      <td>3.0</td>\n",
       "      <td>0.00</td>\n",
       "    </tr>\n",
       "    <tr>\n",
       "      <th>5</th>\n",
       "      <td>2024-01-08</td>\n",
       "      <td>Food</td>\n",
       "      <td>Muffin</td>\n",
       "      <td>C002</td>\n",
       "      <td>1</td>\n",
       "      <td>2.5</td>\n",
       "      <td>2.5</td>\n",
       "      <td>0.25</td>\n",
       "    </tr>\n",
       "  </tbody>\n",
       "</table>\n",
       "</div>"
      ],
      "text/plain": [
       "        Date  Category     Product CustomerID  Quantity  UnitPrice  Revenue  \\\n",
       "0 2024-01-01  Beverage  Cappuccino       C004         1        3.0      3.0   \n",
       "5 2024-01-08      Food      Muffin       C002         1        2.5      2.5   \n",
       "\n",
       "   UnitPriceDifference  \n",
       "0                 0.00  \n",
       "5                 0.25  "
      ]
     },
     "execution_count": 96,
     "metadata": {},
     "output_type": "execute_result"
    }
   ],
   "source": [
    "# 21. data wrt monday\n",
    "df.groupby(df.Date.dt.day_name()).get_group('Monday')"
   ]
  },
  {
   "cell_type": "markdown",
   "id": "4211b655",
   "metadata": {},
   "source": [
    "22) apply() can be applied on rows, Apply applies the function on the entire sries at a time"
   ]
  },
  {
   "cell_type": "markdown",
   "id": "b26acd2a",
   "metadata": {},
   "source": [
    "23) Apply and map are vectorized applications\n",
    "\n",
    "apply in Pandas:\n",
    "\n",
    "The apply method in Pandas is used to apply a function along the axis of a DataFrame (either rows or columns).\n",
    "When you apply a function using apply, it operates on entire columns or rows at once, rather than iterating over each element individually.\n",
    "This bulk processing of data is more efficient and often leads to better performance compared to using explicit loops.\n",
    "\n",
    "map in Python:\n",
    "\n",
    "The map function in Python is used to apply a function to all the items in an input iterable (e.g., a list, series, etc.).\n",
    "When using map, the function is applied to each element of the iterable without the need for an explicit loop.\n",
    "It's a concise and efficient way to transform each element in a collection."
   ]
  },
  {
   "cell_type": "code",
   "execution_count": 97,
   "id": "2e663d6a",
   "metadata": {},
   "outputs": [
    {
     "name": "stdout",
     "output_type": "stream",
     "text": [
      "        Date Region Salesperson   Product  Quantity  UnitPrice\n",
      "0 2024-01-10  North        Ajay  Notebook         5         12\n",
      "1 2024-01-11  South        Balu       Pen        10          3\n",
      "2 2024-01-10   East      Chirag  Notebook         7         12\n",
      "3 2024-01-12   West        Ajay       Pen        15          3\n",
      "4 2024-01-11  North        Balu    Binder        20          5\n",
      "5 2024-01-12   East      Chirag    Binder        10          5\n"
     ]
    }
   ],
   "source": [
    "data = {\n",
    "    'Date': pd.to_datetime(['2024-01-10', '2024-01-11', '2024-01-10', '2024-01-12', '2024-01-11', '2024-01-12']),\n",
    "    'Region': ['North', 'South', 'East', 'West', 'North', 'East'],\n",
    "    'Salesperson': ['Ajay', 'Balu', 'Chirag', 'Ajay', 'Balu', 'Chirag'],\n",
    "    'Product': ['Notebook', 'Pen', 'Notebook', 'Pen', 'Binder', 'Binder'],\n",
    "    'Quantity': [5, 10, 7, 15, 20, 10],\n",
    "    'UnitPrice': [12, 3, 12, 3, 5, 5]\n",
    "}\n",
    "\n",
    "df1 = pd.DataFrame(data)\n",
    "\n",
    "print(df1)"
   ]
  },
  {
   "cell_type": "code",
   "execution_count": 98,
   "id": "f2b0f838",
   "metadata": {},
   "outputs": [
    {
     "data": {
      "text/html": [
       "<div>\n",
       "<style scoped>\n",
       "    .dataframe tbody tr th:only-of-type {\n",
       "        vertical-align: middle;\n",
       "    }\n",
       "\n",
       "    .dataframe tbody tr th {\n",
       "        vertical-align: top;\n",
       "    }\n",
       "\n",
       "    .dataframe thead th {\n",
       "        text-align: right;\n",
       "    }\n",
       "</style>\n",
       "<table border=\"1\" class=\"dataframe\">\n",
       "  <thead>\n",
       "    <tr style=\"text-align: right;\">\n",
       "      <th>Product</th>\n",
       "      <th>Binder</th>\n",
       "      <th>Notebook</th>\n",
       "      <th>Pen</th>\n",
       "    </tr>\n",
       "    <tr>\n",
       "      <th>Region</th>\n",
       "      <th></th>\n",
       "      <th></th>\n",
       "      <th></th>\n",
       "    </tr>\n",
       "  </thead>\n",
       "  <tbody>\n",
       "    <tr>\n",
       "      <th>North</th>\n",
       "      <td>20.0</td>\n",
       "      <td>5.0</td>\n",
       "      <td>NaN</td>\n",
       "    </tr>\n",
       "    <tr>\n",
       "      <th>South</th>\n",
       "      <td>NaN</td>\n",
       "      <td>NaN</td>\n",
       "      <td>10.0</td>\n",
       "    </tr>\n",
       "  </tbody>\n",
       "</table>\n",
       "</div>"
      ],
      "text/plain": [
       "Product  Binder  Notebook   Pen\n",
       "Region                         \n",
       "North      20.0       5.0   NaN\n",
       "South       NaN       NaN  10.0"
      ]
     },
     "execution_count": 98,
     "metadata": {},
     "output_type": "execute_result"
    }
   ],
   "source": [
    "# 24. create a pivot table with index ass Nort and South and Columns as Product Where values are sum of Quantities Sold\n",
    "df1[df1['Region'].isin(['North', 'South'])].pivot_table(index='Region', columns='Product', values='Quantity', aggfunc='sum')"
   ]
  },
  {
   "cell_type": "markdown",
   "id": "ec5506c6",
   "metadata": {},
   "source": [
    "25) .loc method includes the last element when used for slicing, we can use .loc method and pass default integer index of rows when slicing"
   ]
  },
  {
   "cell_type": "code",
   "execution_count": 99,
   "id": "5112e8e9",
   "metadata": {},
   "outputs": [
    {
     "data": {
      "text/html": [
       "<div>\n",
       "<style scoped>\n",
       "    .dataframe tbody tr th:only-of-type {\n",
       "        vertical-align: middle;\n",
       "    }\n",
       "\n",
       "    .dataframe tbody tr th {\n",
       "        vertical-align: top;\n",
       "    }\n",
       "\n",
       "    .dataframe thead th {\n",
       "        text-align: right;\n",
       "    }\n",
       "</style>\n",
       "<table border=\"1\" class=\"dataframe\">\n",
       "  <thead>\n",
       "    <tr style=\"text-align: right;\">\n",
       "      <th></th>\n",
       "      <th>Product</th>\n",
       "      <th>Binder</th>\n",
       "      <th>Notebook</th>\n",
       "      <th>Pen</th>\n",
       "    </tr>\n",
       "    <tr>\n",
       "      <th>Date</th>\n",
       "      <th>Region</th>\n",
       "      <th></th>\n",
       "      <th></th>\n",
       "      <th></th>\n",
       "    </tr>\n",
       "  </thead>\n",
       "  <tbody>\n",
       "    <tr>\n",
       "      <th rowspan=\"2\" valign=\"top\">2024-01-10</th>\n",
       "      <th>East</th>\n",
       "      <td>NaN</td>\n",
       "      <td>7.0</td>\n",
       "      <td>NaN</td>\n",
       "    </tr>\n",
       "    <tr>\n",
       "      <th>North</th>\n",
       "      <td>NaN</td>\n",
       "      <td>5.0</td>\n",
       "      <td>NaN</td>\n",
       "    </tr>\n",
       "    <tr>\n",
       "      <th rowspan=\"2\" valign=\"top\">2024-01-11</th>\n",
       "      <th>North</th>\n",
       "      <td>20.0</td>\n",
       "      <td>NaN</td>\n",
       "      <td>NaN</td>\n",
       "    </tr>\n",
       "    <tr>\n",
       "      <th>South</th>\n",
       "      <td>NaN</td>\n",
       "      <td>NaN</td>\n",
       "      <td>10.0</td>\n",
       "    </tr>\n",
       "    <tr>\n",
       "      <th rowspan=\"2\" valign=\"top\">2024-01-12</th>\n",
       "      <th>East</th>\n",
       "      <td>10.0</td>\n",
       "      <td>NaN</td>\n",
       "      <td>NaN</td>\n",
       "    </tr>\n",
       "    <tr>\n",
       "      <th>West</th>\n",
       "      <td>NaN</td>\n",
       "      <td>NaN</td>\n",
       "      <td>15.0</td>\n",
       "    </tr>\n",
       "  </tbody>\n",
       "</table>\n",
       "</div>"
      ],
      "text/plain": [
       "Product            Binder  Notebook   Pen\n",
       "Date       Region                        \n",
       "2024-01-10 East       NaN       7.0   NaN\n",
       "           North      NaN       5.0   NaN\n",
       "2024-01-11 North     20.0       NaN   NaN\n",
       "           South      NaN       NaN  10.0\n",
       "2024-01-12 East      10.0       NaN   NaN\n",
       "           West       NaN       NaN  15.0"
      ]
     },
     "execution_count": 99,
     "metadata": {},
     "output_type": "execute_result"
    }
   ],
   "source": [
    "# 26. to have a multi index of date and region, with total product sold as values\n",
    "\n",
    "df1.pivot_table(index = ['Date', 'Region'], columns = 'Product', values = 'Quantity', aggfunc = 'sum')"
   ]
  },
  {
   "cell_type": "markdown",
   "id": "e8430824",
   "metadata": {},
   "source": [
    "27) margins parameter in pivot_table() allows us to display max number of rows and columns"
   ]
  },
  {
   "cell_type": "code",
   "execution_count": 103,
   "id": "a53eb6b4",
   "metadata": {},
   "outputs": [
    {
     "name": "stdout",
     "output_type": "stream",
     "text": [
      "    Fruits Price\n",
      "0    apple      \n",
      "1   banana      \n",
      "2    apple   205\n",
      "3    apple   200\n",
      "4   banana    40\n",
      "5    apple   210\n",
      "6     kiwi   300\n",
      "7     kiwi   320\n",
      "8   banana      \n",
      "9    apple   180\n",
      "10    kiwi   350\n",
      "11   apple      \n",
      "12  banana    35\n",
      "13   grape      \n",
      "14   apple   215\n",
      "15  banana    40\n",
      "16   apple      \n",
      "17   apple      \n",
      "18   grape      \n"
     ]
    }
   ],
   "source": [
    "data = {\n",
    "    'Fruits': ['apple', 'banana', 'apple', 'apple', 'banana', 'apple', 'kiwi', 'kiwi', 'banana', 'apple', 'kiwi', 'apple', 'banana', 'grape', 'apple', 'banana', 'apple', 'apple', 'grape'],\n",
    "    'Price': ['', '', 205, 200, 40, 210, 300, 320, '', 180, 350, '', 35, '', 215, 40, '', '', '']\n",
    "}\n",
    "\n",
    "df2 = pd.DataFrame(data)\n",
    "\n",
    "print(df2)"
   ]
  },
  {
   "cell_type": "code",
   "execution_count": 101,
   "id": "9e8fa05e",
   "metadata": {},
   "outputs": [],
   "source": [
    "# 28. imputing missing values in Price Col by Chaining ffill() and bfill() while limiting the imputation to 1,1 respectively\n",
    "df2['Price'] = pd.to_numeric(df2['Price'])\n",
    "df2['Price'] = df2['Price'].ffill(limit=1).bfill(limit=1)"
   ]
  },
  {
   "cell_type": "code",
   "execution_count": 102,
   "id": "00068894",
   "metadata": {},
   "outputs": [
    {
     "data": {
      "text/html": [
       "<div>\n",
       "<style scoped>\n",
       "    .dataframe tbody tr th:only-of-type {\n",
       "        vertical-align: middle;\n",
       "    }\n",
       "\n",
       "    .dataframe tbody tr th {\n",
       "        vertical-align: top;\n",
       "    }\n",
       "\n",
       "    .dataframe thead th {\n",
       "        text-align: right;\n",
       "    }\n",
       "</style>\n",
       "<table border=\"1\" class=\"dataframe\">\n",
       "  <thead>\n",
       "    <tr style=\"text-align: right;\">\n",
       "      <th></th>\n",
       "      <th>Fruits</th>\n",
       "      <th>Price</th>\n",
       "    </tr>\n",
       "  </thead>\n",
       "  <tbody>\n",
       "    <tr>\n",
       "      <th>0</th>\n",
       "      <td>apple</td>\n",
       "      <td>NaN</td>\n",
       "    </tr>\n",
       "    <tr>\n",
       "      <th>1</th>\n",
       "      <td>banana</td>\n",
       "      <td>205.0</td>\n",
       "    </tr>\n",
       "    <tr>\n",
       "      <th>2</th>\n",
       "      <td>apple</td>\n",
       "      <td>205.0</td>\n",
       "    </tr>\n",
       "    <tr>\n",
       "      <th>3</th>\n",
       "      <td>apple</td>\n",
       "      <td>200.0</td>\n",
       "    </tr>\n",
       "    <tr>\n",
       "      <th>4</th>\n",
       "      <td>banana</td>\n",
       "      <td>40.0</td>\n",
       "    </tr>\n",
       "    <tr>\n",
       "      <th>5</th>\n",
       "      <td>apple</td>\n",
       "      <td>210.0</td>\n",
       "    </tr>\n",
       "    <tr>\n",
       "      <th>6</th>\n",
       "      <td>kiwi</td>\n",
       "      <td>300.0</td>\n",
       "    </tr>\n",
       "    <tr>\n",
       "      <th>7</th>\n",
       "      <td>kiwi</td>\n",
       "      <td>320.0</td>\n",
       "    </tr>\n",
       "    <tr>\n",
       "      <th>8</th>\n",
       "      <td>banana</td>\n",
       "      <td>320.0</td>\n",
       "    </tr>\n",
       "    <tr>\n",
       "      <th>9</th>\n",
       "      <td>apple</td>\n",
       "      <td>180.0</td>\n",
       "    </tr>\n",
       "    <tr>\n",
       "      <th>10</th>\n",
       "      <td>kiwi</td>\n",
       "      <td>350.0</td>\n",
       "    </tr>\n",
       "    <tr>\n",
       "      <th>11</th>\n",
       "      <td>apple</td>\n",
       "      <td>350.0</td>\n",
       "    </tr>\n",
       "    <tr>\n",
       "      <th>12</th>\n",
       "      <td>banana</td>\n",
       "      <td>35.0</td>\n",
       "    </tr>\n",
       "    <tr>\n",
       "      <th>13</th>\n",
       "      <td>grape</td>\n",
       "      <td>35.0</td>\n",
       "    </tr>\n",
       "    <tr>\n",
       "      <th>14</th>\n",
       "      <td>apple</td>\n",
       "      <td>215.0</td>\n",
       "    </tr>\n",
       "    <tr>\n",
       "      <th>15</th>\n",
       "      <td>banana</td>\n",
       "      <td>40.0</td>\n",
       "    </tr>\n",
       "    <tr>\n",
       "      <th>16</th>\n",
       "      <td>apple</td>\n",
       "      <td>40.0</td>\n",
       "    </tr>\n",
       "    <tr>\n",
       "      <th>17</th>\n",
       "      <td>apple</td>\n",
       "      <td>NaN</td>\n",
       "    </tr>\n",
       "    <tr>\n",
       "      <th>18</th>\n",
       "      <td>grape</td>\n",
       "      <td>NaN</td>\n",
       "    </tr>\n",
       "  </tbody>\n",
       "</table>\n",
       "</div>"
      ],
      "text/plain": [
       "    Fruits  Price\n",
       "0    apple    NaN\n",
       "1   banana  205.0\n",
       "2    apple  205.0\n",
       "3    apple  200.0\n",
       "4   banana   40.0\n",
       "5    apple  210.0\n",
       "6     kiwi  300.0\n",
       "7     kiwi  320.0\n",
       "8   banana  320.0\n",
       "9    apple  180.0\n",
       "10    kiwi  350.0\n",
       "11   apple  350.0\n",
       "12  banana   35.0\n",
       "13   grape   35.0\n",
       "14   apple  215.0\n",
       "15  banana   40.0\n",
       "16   apple   40.0\n",
       "17   apple    NaN\n",
       "18   grape    NaN"
      ]
     },
     "execution_count": 102,
     "metadata": {},
     "output_type": "execute_result"
    }
   ],
   "source": [
    "df2"
   ]
  },
  {
   "cell_type": "markdown",
   "id": "c0159e2c",
   "metadata": {},
   "source": [
    "28) There are 3 missing values left post imputation"
   ]
  },
  {
   "cell_type": "markdown",
   "id": "e29ff512",
   "metadata": {},
   "source": [
    "29) imputing price col with individual fruits prices median of handling missing values technique is appropriate for df2"
   ]
  },
  {
   "cell_type": "code",
   "execution_count": 105,
   "id": "7fc719b3",
   "metadata": {},
   "outputs": [],
   "source": [
    "# 30. imputing missing values in price col by with individual fruits prices mean\n",
    "df2['Price'] = pd.to_numeric(df2['Price'])\n",
    "df2['Price'] = df2.groupby('Fruits')['Price'].transform(lambda x: x.fillna(x.mean()))"
   ]
  },
  {
   "cell_type": "code",
   "execution_count": 106,
   "id": "f4a5119c",
   "metadata": {},
   "outputs": [
    {
     "data": {
      "text/html": [
       "<div>\n",
       "<style scoped>\n",
       "    .dataframe tbody tr th:only-of-type {\n",
       "        vertical-align: middle;\n",
       "    }\n",
       "\n",
       "    .dataframe tbody tr th {\n",
       "        vertical-align: top;\n",
       "    }\n",
       "\n",
       "    .dataframe thead th {\n",
       "        text-align: right;\n",
       "    }\n",
       "</style>\n",
       "<table border=\"1\" class=\"dataframe\">\n",
       "  <thead>\n",
       "    <tr style=\"text-align: right;\">\n",
       "      <th></th>\n",
       "      <th>Fruits</th>\n",
       "      <th>Price</th>\n",
       "    </tr>\n",
       "  </thead>\n",
       "  <tbody>\n",
       "    <tr>\n",
       "      <th>0</th>\n",
       "      <td>apple</td>\n",
       "      <td>202.000000</td>\n",
       "    </tr>\n",
       "    <tr>\n",
       "      <th>1</th>\n",
       "      <td>banana</td>\n",
       "      <td>38.333333</td>\n",
       "    </tr>\n",
       "    <tr>\n",
       "      <th>2</th>\n",
       "      <td>apple</td>\n",
       "      <td>205.000000</td>\n",
       "    </tr>\n",
       "    <tr>\n",
       "      <th>3</th>\n",
       "      <td>apple</td>\n",
       "      <td>200.000000</td>\n",
       "    </tr>\n",
       "    <tr>\n",
       "      <th>4</th>\n",
       "      <td>banana</td>\n",
       "      <td>40.000000</td>\n",
       "    </tr>\n",
       "    <tr>\n",
       "      <th>5</th>\n",
       "      <td>apple</td>\n",
       "      <td>210.000000</td>\n",
       "    </tr>\n",
       "    <tr>\n",
       "      <th>6</th>\n",
       "      <td>kiwi</td>\n",
       "      <td>300.000000</td>\n",
       "    </tr>\n",
       "    <tr>\n",
       "      <th>7</th>\n",
       "      <td>kiwi</td>\n",
       "      <td>320.000000</td>\n",
       "    </tr>\n",
       "    <tr>\n",
       "      <th>8</th>\n",
       "      <td>banana</td>\n",
       "      <td>38.333333</td>\n",
       "    </tr>\n",
       "    <tr>\n",
       "      <th>9</th>\n",
       "      <td>apple</td>\n",
       "      <td>180.000000</td>\n",
       "    </tr>\n",
       "    <tr>\n",
       "      <th>10</th>\n",
       "      <td>kiwi</td>\n",
       "      <td>350.000000</td>\n",
       "    </tr>\n",
       "    <tr>\n",
       "      <th>11</th>\n",
       "      <td>apple</td>\n",
       "      <td>202.000000</td>\n",
       "    </tr>\n",
       "    <tr>\n",
       "      <th>12</th>\n",
       "      <td>banana</td>\n",
       "      <td>35.000000</td>\n",
       "    </tr>\n",
       "    <tr>\n",
       "      <th>13</th>\n",
       "      <td>grape</td>\n",
       "      <td>NaN</td>\n",
       "    </tr>\n",
       "    <tr>\n",
       "      <th>14</th>\n",
       "      <td>apple</td>\n",
       "      <td>215.000000</td>\n",
       "    </tr>\n",
       "    <tr>\n",
       "      <th>15</th>\n",
       "      <td>banana</td>\n",
       "      <td>40.000000</td>\n",
       "    </tr>\n",
       "    <tr>\n",
       "      <th>16</th>\n",
       "      <td>apple</td>\n",
       "      <td>202.000000</td>\n",
       "    </tr>\n",
       "    <tr>\n",
       "      <th>17</th>\n",
       "      <td>apple</td>\n",
       "      <td>202.000000</td>\n",
       "    </tr>\n",
       "    <tr>\n",
       "      <th>18</th>\n",
       "      <td>grape</td>\n",
       "      <td>NaN</td>\n",
       "    </tr>\n",
       "  </tbody>\n",
       "</table>\n",
       "</div>"
      ],
      "text/plain": [
       "    Fruits       Price\n",
       "0    apple  202.000000\n",
       "1   banana   38.333333\n",
       "2    apple  205.000000\n",
       "3    apple  200.000000\n",
       "4   banana   40.000000\n",
       "5    apple  210.000000\n",
       "6     kiwi  300.000000\n",
       "7     kiwi  320.000000\n",
       "8   banana   38.333333\n",
       "9    apple  180.000000\n",
       "10    kiwi  350.000000\n",
       "11   apple  202.000000\n",
       "12  banana   35.000000\n",
       "13   grape         NaN\n",
       "14   apple  215.000000\n",
       "15  banana   40.000000\n",
       "16   apple  202.000000\n",
       "17   apple  202.000000\n",
       "18   grape         NaN"
      ]
     },
     "execution_count": 106,
     "metadata": {},
     "output_type": "execute_result"
    }
   ],
   "source": [
    "df2"
   ]
  },
  {
   "cell_type": "markdown",
   "id": "bb80e98b",
   "metadata": {},
   "source": [
    "30) there are 2 missing values post imputation"
   ]
  },
  {
   "cell_type": "code",
   "execution_count": 113,
   "id": "9be7a3ab",
   "metadata": {},
   "outputs": [
    {
     "data": {
      "text/plain": [
       "0    NaN\n",
       "1    1.0\n",
       "2    2.0\n",
       "3    2.4\n",
       "4    2.8\n",
       "5    3.2\n",
       "6    3.6\n",
       "7    4.0\n",
       "8    5.0\n",
       "9    7.0\n",
       "dtype: float64"
      ]
     },
     "execution_count": 113,
     "metadata": {},
     "output_type": "execute_result"
    }
   ],
   "source": [
    "# 31. \n",
    "a = pd.Series([np.nan, 1, 2, np.nan, np.nan, np.nan, np.nan, 4, 5, 7])\n",
    "\n",
    "a.interpolate()"
   ]
  },
  {
   "cell_type": "markdown",
   "id": "ef1995a6",
   "metadata": {},
   "source": [
    "32) normalization parameter in crosstab method is used to normalize values by dividing them by the total count"
   ]
  },
  {
   "cell_type": "code",
   "execution_count": 114,
   "id": "1cfef9bd",
   "metadata": {},
   "outputs": [
    {
     "name": "stdout",
     "output_type": "stream",
     "text": [
      "  Age Group Favorite Color  Gender Has Pet\n",
      "0     26-35           Blue    Male     Yes\n",
      "1     18-25            Red  Female     Yes\n",
      "2     18-25            Red    Male     Yes\n",
      "3     26-35           Blue  Female     Yes\n",
      "4     18-25            Red  Female     Yes\n",
      "5     18-25           Blue  Female      No\n"
     ]
    }
   ],
   "source": [
    "data = {\n",
    "    'Age Group': ['26-35', '18-25', '18-25', '26-35', '18-25', '18-25'],\n",
    "    'Favorite Color': ['Blue', 'Red', 'Red', 'Blue', 'Red', 'Blue'],\n",
    "    'Gender': ['Male', 'Female', 'Male', 'Female', 'Female', 'Female'],\n",
    "    'Has Pet': ['Yes', 'Yes', 'Yes', 'Yes', 'Yes', 'No']\n",
    "}\n",
    "\n",
    "df3 = pd.DataFrame(data)\n",
    "\n",
    "print(df3)"
   ]
  },
  {
   "cell_type": "code",
   "execution_count": 115,
   "id": "a4bfbf18",
   "metadata": {},
   "outputs": [
    {
     "name": "stdout",
     "output_type": "stream",
     "text": [
      "0.3333333333333333\n"
     ]
    }
   ],
   "source": [
    "# 33. Probability of finding a Male and having a Pet in df3\n",
    "\n",
    "total_observations = len(df3)\n",
    "male_and_has_pet = len(df3[(df3['Gender'] == 'Male') & (df3['Has Pet'] == 'Yes')])\n",
    "probability = male_and_has_pet / total_observations\n",
    "\n",
    "print(probability)"
   ]
  },
  {
   "cell_type": "code",
   "execution_count": 116,
   "id": "916a15f2",
   "metadata": {},
   "outputs": [
    {
     "name": "stdout",
     "output_type": "stream",
     "text": [
      "0.75\n"
     ]
    }
   ],
   "source": [
    "# 34. Probability of finding a person having a Pet given they belong to the age group 18-25 in df3\n",
    "age_group_18_25 = len(df3[df3['Age Group'] == '18-25'])\n",
    "has_pet_and_age_group_18_25 = len(df3[(df3['Age Group'] == '18-25') & (df3['Has Pet'] == 'Yes')])\n",
    "probability = has_pet_and_age_group_18_25 / age_group_18_25\n",
    "\n",
    "print(probability)"
   ]
  },
  {
   "cell_type": "markdown",
   "id": "bd732645",
   "metadata": {},
   "source": [
    "35) Binomial Distribution is appropriate for modelling the number of defects in a large batch of products"
   ]
  },
  {
   "cell_type": "markdown",
   "id": "857fddbf",
   "metadata": {},
   "source": [
    "36) Ordinal data is collected if a survey asks to rate their satisfaction with a product on a scale of 1 to 5."
   ]
  },
  {
   "cell_type": "markdown",
   "id": "efc6821f",
   "metadata": {},
   "source": [
    "37) Right Skewed"
   ]
  },
  {
   "attachments": {
    "skew1.png": {
     "image/png": "[encoded data removed]"
    }
   },
   "cell_type": "markdown",
   "id": "b564220b",
   "metadata": {},
   "source": [
    "![skew1.png](attachment:skew1.png)"
   ]
  },
  {
   "cell_type": "markdown",
   "id": "41257473",
   "metadata": {},
   "source": [
    "38) in data with outliers, Median Absolute Deviation is best measure to estimate the dispersion"
   ]
  }
 ],
 "metadata": {
  "kernelspec": {
   "display_name": "Python 3 (ipykernel)",
   "language": "python",
   "name": "python3"
  },
  "language_info": {
   "codemirror_mode": {
    "name": "ipython",
    "version": 3
   },
   "file_extension": ".py",
   "mimetype": "text/x-python",
   "name": "python",
   "nbconvert_exporter": "python",
   "pygments_lexer": "ipython3",
   "version": "3.11.5"
  }
 },
 "nbformat": 4,
 "nbformat_minor": 5
}
