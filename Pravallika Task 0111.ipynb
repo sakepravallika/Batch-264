{
 "cells": [
  {
   "cell_type": "code",
   "execution_count": 8,
   "id": "3422901f",
   "metadata": {},
   "outputs": [
    {
     "name": "stdout",
     "output_type": "stream",
     "text": [
      "enter your age: 12\n",
      "You are a minor\n"
     ]
    }
   ],
   "source": [
    "# using age telling person is minor or not\n",
    "age = int(input(\"enter your age: \")) # getting age from user\n",
    "\n",
    "if age >= 18: # if age is above 18 or 18\n",
    "    print(\"You are an adult\") # you are adult will be printed otherwise go ot else\n",
    "else: # if age is below 18\n",
    "    print(\"You are a minor\") # you are minor will be printed"
   ]
  },
  {
   "cell_type": "code",
   "execution_count": 25,
   "id": "feb25817",
   "metadata": {},
   "outputs": [
    {
     "name": "stdout",
     "output_type": "stream",
     "text": [
      "Enter your numerical grade (out of 100): 65\n",
      "D\n"
     ]
    }
   ],
   "source": [
    "# giving grades for student marks\n",
    "numerical_grade = int(input(\"Enter your numerical grade (out of 100): \")) # getting grade from user\n",
    "\n",
    "if numerical_grade >= 90: # if grade is between 90 and 100\n",
    "    print('A') # A will be printed\n",
    "elif numerical_grade >= 80: # if age is between 80 and 90\n",
    "    print('B') # B will be printed\n",
    "elif numerical_grade >= 70: # if age is between 70 and 80\n",
    "    print('C') # C will be printed\n",
    "elif numerical_grade >= 60: # if age is between 60 and 70\n",
    "    print('D') # D will be printed\n",
    "else: # if age is between 0 and 60\n",
    "    print('E') # E will be printed"
   ]
  },
  {
   "cell_type": "code",
   "execution_count": 6,
   "id": "d52887b9",
   "metadata": {},
   "outputs": [
    {
     "name": "stdout",
     "output_type": "stream",
     "text": [
      "Enter your weight in kilograms: 70\n",
      "Enter your height in meters: 1.7\n",
      "normal weight\n"
     ]
    }
   ],
   "source": [
    "# calculating BMI\n",
    "kg = int(input(\"Enter your weight in kg: \")) # getting weight in kg from user\n",
    "m = float(input(\"Enter your height in mts: \")) # getting height in m from user\n",
    "\n",
    "bmi = kg / (m ** 2) # this is Body mass index formula from maths\n",
    "\n",
    "if bmi < 20: # if after calculating bmi the value is below 20\n",
    "    print(\"underweight\") # under weight is printed\n",
    "elif 20 <= bmi < 25: #  if bmi is between 20 and 25\n",
    "    print(\"normal weight\") # normal weight is printed\n",
    "elif 25 <= bmi < 30: #  if bmi is between 20 and 25\n",
    "    print(\"overweight\") # over weight is printed\n",
    "else: #  if bmi is above 30\n",
    "    print(\"obese\")"
   ]
  },
  {
   "cell_type": "code",
   "execution_count": 10,
   "id": "ff288f93",
   "metadata": {},
   "outputs": [
    {
     "name": "stdout",
     "output_type": "stream",
     "text": [
      "Enter the first number: 22\n",
      "Enter the second number: 27\n",
      "Enter the third number: 29\n",
      "29\n"
     ]
    }
   ],
   "source": [
    "#  getting Max of three numbers\n",
    "num1 = int(input(\"Enter the first number: \")) # getting any number from user as 1st number\n",
    "num2 = int(input(\"Enter the second number: \")) # getting any number from user as 2nd number\n",
    "num3 = int(input(\"Enter the third number: \")) # getting any number from user as 3rd number\n",
    "\n",
    "maximum = max(num1, num2, num3) # this is max formula for 3 numbers checking which number is max the above given 3 numbers will be taken as input and results which one is max\n",
    "\n",
    "print(maximum) # here printing the max of given 3 numbers"
   ]
  },
  {
   "cell_type": "code",
   "execution_count": 14,
   "id": "efe294ce",
   "metadata": {},
   "outputs": [
    {
     "name": "stdout",
     "output_type": "stream",
     "text": [
      "Enter the temperature in Celsius: 20\n",
      "It's warm\n"
     ]
    }
   ],
   "source": [
    "#  finding temperature in Celsius\n",
    "temperature = float(input(\"Enter the temperature in Celsius: \")) # geting temperature value here in float bcs temp will be some time in decimals\n",
    "\n",
    "if temperature < 0: # if temp value is below 0\n",
    "    print(\"It's freezing\") #  its freezing is getting printed\n",
    "elif 0 <= temperature <= 10: # if temp value is between 0 and 10\n",
    "    print(\"It's cool\") #  its cool is getting printed\n",
    "elif 10 < temperature <= 20:# if temp value is between 10 and 20\n",
    "    print(\"It's warm\") #  its warm is getting printed\n",
    "else:# if temp value is above 20\n",
    "    print(\"It's hot\") #  its hot is getting printed"
   ]
  },
  {
   "cell_type": "code",
   "execution_count": 15,
   "id": "d34cab86",
   "metadata": {},
   "outputs": [
    {
     "name": "stdout",
     "output_type": "stream",
     "text": [
      "Enter a number: 15\n",
      "In range\n"
     ]
    }
   ],
   "source": [
    "# getting number is out of range\n",
    "number = int(input(\"Enter a number: \")) # getting input of number from uer\n",
    "\n",
    "if 10 <= number <= 20: # if num value is between 10 and 20\n",
    "    print(\"In range\") # in range is getting printed\n",
    "else: # if num value is not between 10 and 20\n",
    "    print(\"Out of range\") # out of range is getting printed"
   ]
  },
  {
   "cell_type": "code",
   "execution_count": 18,
   "id": "13da2fa8",
   "metadata": {},
   "outputs": [
    {
     "name": "stdout",
     "output_type": "stream",
     "text": [
      "Enter an integer: 15\n",
      "number is odd\n"
     ]
    }
   ],
   "source": [
    "#  given number odd or even\n",
    "number = int(input(\"Enter an integer: \")) # getting number from user\n",
    "\n",
    "if number % 2 == 0: # if number is divisible by 2\n",
    "    print(\"number is even\") # printing number is even\n",
    "else: # if not divisible\n",
    "    print(\"number is odd\") # printing number is odd"
   ]
  },
  {
   "cell_type": "code",
   "execution_count": 20,
   "id": "d714ce86",
   "metadata": {},
   "outputs": [
    {
     "name": "stdout",
     "output_type": "stream",
     "text": [
      "Player 1:rock\n",
      "Player 2:paper\n",
      "Player 2 wins\n"
     ]
    }
   ],
   "source": [
    "# rock paper scissor\n",
    "player1 = input('Player 1:') # getting string from palyer1 one as rock paper or scissor\n",
    "player2 = input('Player 2:') # getting string from palyer 2 one as rock paper or scissor\n",
    "\n",
    "if player1 == player2:# if player1 and 2 are getting bot same\n",
    "    print(\"It's a tie!\") # printing the match is tie\n",
    "elif player1 == \"rock\": # otherwise if palyer1 is getting rock \n",
    "    if player2 == \"scissors\": # and player 2 is getting scissor\n",
    "        print(\"Player 1 wins\") # printing player1 one is win bcz rock can break scissor\n",
    "    else: # if elif stmt is wrong it shold give player 2 wins\n",
    "        print(\"Player 2 wins\") # printing player 2 wins\n",
    "elif player1 == \"paper\": # otherwise if palyer1 is getting paper\n",
    "    if player2 == \"rock\": # and player 2 is getting rock\n",
    "        print(\"Player 1 wins\") # printing player1 one is win bcz paper can fold rock\n",
    "    else: # if 2nd elif stmt is wrong it shold give player 2 wins\n",
    "        print(\"Player 2 wins\") # printing player 2 wins\n",
    "elif player1 == \"scissors\": # otherwise if palyer1 is getting scissor\n",
    "    if player2 == \"paper\": # and player 2 is getting paper\n",
    "        print(\"Player 1 wins\") # printing player1 one is win bcz scissor can cut paper\n",
    "    else: # if 3rd elif stmt is wrong it shold give player 2 wins\n",
    "        print(\"Player 2 wins\") # printing player 2 wins"
   ]
  },
  {
   "cell_type": "code",
   "execution_count": 23,
   "id": "32bee63f",
   "metadata": {},
   "outputs": [
    {
     "name": "stdout",
     "output_type": "stream",
     "text": [
      "Enter a word: paint\n",
      "word is not plural.\n"
     ]
    }
   ],
   "source": [
    "# Plural or not\n",
    "word = input(\"Enter a word: \") # getting any single word from user ass input\n",
    "\n",
    "if word.endswith('s'): # if the given word is ending with s like paints or scissors\n",
    "    print(\"word is plural.\") # printing word is plural\n",
    "else: # if the given word is not ending with s like paint or scissor\n",
    "    print(\"word is not plural.\") # printing word is not plural"
   ]
  },
  {
   "cell_type": "markdown",
   "id": "a763dcc9",
   "metadata": {},
   "source": [
    "# Write a program that asks the user for a number (1-7) and prints the corresponding day of the week."
   ]
  },
  {
   "cell_type": "code",
   "execution_count": 1,
   "id": "6ede822b",
   "metadata": {},
   "outputs": [
    {
     "name": "stdout",
     "output_type": "stream",
     "text": [
      "Enter a number 1-7: 1\n",
      "The day is Sunday\n"
     ]
    }
   ],
   "source": [
    "# ask the user to enter a number between 1 and 7\n",
    "number = int(input(\"Enter a number 1-7: \"))\n",
    "\n",
    "if number == 1:\n",
    "    print(\"The day is Sunday\")\n",
    "elif number == 2:\n",
    "    print(\"The day is Monday\")\n",
    "elif number == 3:\n",
    "    print(\"The day is Tuesday\")\n",
    "elif number == 4:\n",
    "    print(\"The day is Wednesday\")\n",
    "elif number == 5:\n",
    "    print(\"The day is Thursday\")\n",
    "elif number == 6:\n",
    "    print(\"The day is Friday\")\n",
    "elif number == 7:\n",
    "    print(\"The day is Saturday\")"
   ]
  },
  {
   "cell_type": "markdown",
   "id": "35954ea6",
   "metadata": {},
   "source": [
    "# Write a Python program to add 'ing' at the end of a given string (string length should be equal to or more than 3). If the given string already ends with 'ing' then add 'ly' instead.If the string length of the given string is less than 3, leave it unchanged"
   ]
  },
  {
   "cell_type": "code",
   "execution_count": 24,
   "id": "361dcbd1",
   "metadata": {},
   "outputs": [
    {
     "name": "stdout",
     "output_type": "stream",
     "text": [
      "Enter a string: Ram\n",
      "Raming\n"
     ]
    }
   ],
   "source": [
    "string = input(\"Enter a string: \")\n",
    "if len(string) >= 3:\n",
    "    print(string + 'ing')  \n",
    "elif string.endswith('ing'):\n",
    "    print(string + 'ly')  \n",
    "else:\n",
    "    print(string)  "
   ]
  },
  {
   "cell_type": "markdown",
   "id": "22246b77",
   "metadata": {},
   "source": [
    "# Create a dynamic calculator which asks for numbers and operator and return the answers,\n",
    "    Example\n",
    "    Input: Type first number: 10\",\n",
    "    Type any of this (+, -, *, /, %, **): ,*\n",
    "    Assignment-2 ,\n",
    "    Type second number: 19,\n",
    "    Output:Answer is 190\n"
   ]
  },
  {
   "cell_type": "code",
   "execution_count": 29,
   "id": "f0d10323",
   "metadata": {},
   "outputs": [
    {
     "name": "stdout",
     "output_type": "stream",
     "text": [
      "Type the first number: 10\n",
      "Type an operators: *\n",
      "Type the second number: 19\n",
      "190.0\n"
     ]
    }
   ],
   "source": [
    "# Dynamic Calculator\n",
    "# Taking user input for numbers and the operator\n",
    "first_number = int(input(\"Type the first number: \"))\n",
    "operator = input(\"Type an operators: \")\n",
    "second_number = float(input(\"Type the second number: \"))\n",
    "\n",
    "# Perform the operation based on the operator provided\n",
    "if operator == '+':\n",
    "        result = first_number + second_number\n",
    "        print(result)\n",
    "elif operator == '-':\n",
    "        result = first_number - second_number\n",
    "        print(result)\n",
    "elif operator == '*':\n",
    "        result = first_number * second_number\n",
    "        print(result)\n",
    "elif operator == '/':\n",
    "        result = first_number / second_number\n",
    "        print(result)\n",
    "elif operator == '%':\n",
    "        result = first_number % second_number\n",
    "        print(result)\n",
    "elif operator == '**':\n",
    "        result = first_number ** second_number\n",
    "        print(result)\n",
    "else:\n",
    "        print(\"Invalid operator entered.\")"
   ]
  },
  {
   "cell_type": "markdown",
   "id": "2b451a5d",
   "metadata": {},
   "source": [
    "# Manoj Kumar has family and friends. Help him remind them who is who. Given a string with a name, return the relation of that person to Manoj Kumar.,\n",
    "\n",
    "Person Relation,\n",
    "Shiva father ,Letha mother, Tarun brother,Kavitha sister ,,Strange Coder.\n"
   ]
  },
  {
   "cell_type": "code",
   "execution_count": 39,
   "id": "11600ca2",
   "metadata": {},
   "outputs": [
    {
     "name": "stdout",
     "output_type": "stream",
     "text": [
      "Enter the name: Shiva\n",
      "Shiva is Manoj Kumars father\n"
     ]
    }
   ],
   "source": [
    "# return the relationship of a person to Manoj Kumar\n",
    "name = input(\"Enter the name: \")\n",
    "relationships = {\n",
    "                    \"Shiva\": \"father\",\n",
    "                    \"Letha\": \"mother\",\n",
    "                    \"Tarun\": \"brother\",\n",
    "                    \"Kavitha\": \"sister\",\n",
    "                    \"Strange Coder\": \"friend\"\n",
    "                }\n",
    "if name in relationships:\n",
    "        relation = relationships[name]\n",
    "        print('Shiva is Manoj Kumars', relation)"
   ]
  },
  {
   "cell_type": "markdown",
   "id": "39f21e46",
   "metadata": {},
   "source": [
    "# A company decided to give a bonus of 5% to employees if his/her year of service is more than 5 years.Ask user for their salary and year of service and print the net bonus amount."
   ]
  },
  {
   "cell_type": "code",
   "execution_count": 42,
   "id": "c36c13d6",
   "metadata": {},
   "outputs": [
    {
     "name": "stdout",
     "output_type": "stream",
     "text": [
      "Enter your salary: 20000\n",
      "Enter your years of service: 6\n",
      "Your bonus amount is:  1000.0\n"
     ]
    }
   ],
   "source": [
    "# Getting user input for salary and years of service\n",
    "salary = int(input(\"Enter your salary: \"))\n",
    "years_of_service = int(input(\"Enter your years of service: \"))\n",
    "\n",
    "# Check if the employee is eligible for a bonus\n",
    "if years_of_service > 5:\n",
    "    bonus = 0.05 * salary  # Calculate 5% of the salary as a bonus\n",
    "    print(\"Your bonus amount is: \", bonus)"
   ]
  },
  {
   "cell_type": "markdown",
   "id": "4592dedb",
   "metadata": {},
   "source": [
    "# Take values of length and breadth of a rectangle from the user and check if it is square or not."
   ]
  },
  {
   "cell_type": "code",
   "execution_count": 43,
   "id": "7f568c1b",
   "metadata": {},
   "outputs": [
    {
     "name": "stdout",
     "output_type": "stream",
     "text": [
      "Enter the length of the rectangle: 5\n",
      "Enter the breadth of the rectangle: 5\n",
      "It's a square.\n"
     ]
    }
   ],
   "source": [
    "# Getting user input for length and breadth of the rectangle\n",
    "length = float(input(\"Enter the length of the rectangle: \"))\n",
    "breadth = float(input(\"Enter the breadth of the rectangle: \"))\n",
    "\n",
    "# Check if it is a square or not\n",
    "if length == breadth:\n",
    "    print(\"It's a square.\")\n",
    "else:\n",
    "    print(\"It's a rectangle, not a square.\")"
   ]
  },
  {
   "cell_type": "markdown",
   "id": "b2d3ad56",
   "metadata": {},
   "source": [
    "# Accept any city from the user and display the momentum of the city \n",
    "Hyderabad  : “charminar”\n",
    "“Delhi”    : “red fort\n",
    "“Agra      : Taj mahal\n",
    "If the city name is not given correctly, give him a warning message.\n"
   ]
  },
  {
   "cell_type": "code",
   "execution_count": 46,
   "id": "599ba705",
   "metadata": {},
   "outputs": [
    {
     "name": "stdout",
     "output_type": "stream",
     "text": [
      "Enter a city name: Delhi\n",
      "The monument of Delhi city is:  Red Fort\n"
     ]
    }
   ],
   "source": [
    "# Get user input for the city name\n",
    "city = input(\"Enter a city name: \")\n",
    "monuments = {\n",
    "                \"Hyderabad\": \"Charminar\",\n",
    "                \"Delhi\": \"Red Fort\",\n",
    "                \"Agra\": \"Taj Mahal\"\n",
    "            }\n",
    "# Check if the city is in the monuments print the monument\n",
    "if city in monuments:\n",
    "    monument = monuments[city]\n",
    "    print(f\"The monument of {city} city is: \", monument)\n",
    "else:\n",
    "    print(\"Warning\")"
   ]
  },
  {
   "cell_type": "markdown",
   "id": "eb691a80",
   "metadata": {},
   "source": [
    "# Write a program to check whether a person is eligible for voting or not  (voting age>=18)."
   ]
  },
  {
   "cell_type": "code",
   "execution_count": 48,
   "id": "8910c1eb",
   "metadata": {},
   "outputs": [
    {
     "name": "stdout",
     "output_type": "stream",
     "text": [
      "enter your age: 25\n",
      "You are eligible to vote\n"
     ]
    }
   ],
   "source": [
    "# using age telling person can vote or not\n",
    "age = int(input(\"enter your age: \")) # getting age from user\n",
    "\n",
    "if age >= 18: # if age is above 18 or 18\n",
    "    print(\"You are eligible to vote\") # you are adult will be printed otherwise go ot else\n",
    "else: # if age is below 18\n",
    "    print(\"You are not eligible to vote\") # you are minor will be printed"
   ]
  },
  {
   "cell_type": "markdown",
   "id": "8fc379fe",
   "metadata": {},
   "source": [
    "# Accept three sides of the triangle and check whether the triangle is possible or not.(Triangle is possible only when the sum of any two sides is greater than 3rd side)."
   ]
  },
  {
   "cell_type": "code",
   "execution_count": 53,
   "id": "4a33dad5",
   "metadata": {},
   "outputs": [
    {
     "name": "stdout",
     "output_type": "stream",
     "text": [
      "Enter the length of the first side: 1\n",
      "Enter the length of the second side: 4\n",
      "Enter the length of the third side: 5\n",
      "No, triangle is not possible\n"
     ]
    }
   ],
   "source": [
    "# Get user input for the three sides of the triangle\n",
    "side1 = int(input(\"Enter the length of the first side: \"))\n",
    "side2 = int(input(\"Enter the length of the second side: \"))\n",
    "side3 = int(input(\"Enter the length of the third side: \"))\n",
    "\n",
    "# Check if the triangle is possible or not\n",
    "if (side1 + side2 > side3) and (side2 + side3 > side1) and (side1 + side3 > side2):\n",
    "    print(\"Yes, triangle is possible\")\n",
    "else:\n",
    "    print(\"No, triangle is not possible\")"
   ]
  }
 ],
 "metadata": {
  "kernelspec": {
   "display_name": "Python 3 (ipykernel)",
   "language": "python",
   "name": "python3"
  },
  "language_info": {
   "codemirror_mode": {
    "name": "ipython",
    "version": 3
   },
   "file_extension": ".py",
   "mimetype": "text/x-python",
   "name": "python",
   "nbconvert_exporter": "python",
   "pygments_lexer": "ipython3",
   "version": "3.11.5"
  }
 },
 "nbformat": 4,
 "nbformat_minor": 5
}
