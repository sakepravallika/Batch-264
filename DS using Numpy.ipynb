{
 "cells": [
  {
   "cell_type": "code",
   "execution_count": 12,
   "id": "f55ccbec",
   "metadata": {},
   "outputs": [
    {
     "name": "stdout",
     "output_type": "stream",
     "text": [
      "Mean of ProductA: 29.0\n",
      "Mean of ProductB: 38.25\n"
     ]
    }
   ],
   "source": [
    "import numpy as np\n",
    "\n",
    "productA = np.array([25, 30, 28, 32, 26, 29, 27, 33, 31, 28, 30, 29])\n",
    "productB = np.array([40, 35, 38, 41, 37, 36, 39, 42, 38, 37, 40, 36])\n",
    "\n",
    "mean_productA = np.mean(productA)\n",
    "mean_productB = np.mean(productB)\n",
    "\n",
    "print(f\"Mean of ProductA: {mean_productA}\")\n",
    "print(f\"Mean of ProductB: {mean_productB}\")"
   ]
  },
  {
   "cell_type": "markdown",
   "id": "535621ad",
   "metadata": {},
   "source": [
    "ProductB has a higher average monthly sales."
   ]
  },
  {
   "cell_type": "code",
   "execution_count": 13,
   "id": "d28abf60",
   "metadata": {},
   "outputs": [
    {
     "name": "stdout",
     "output_type": "stream",
     "text": [
      "Median of ProductA: 29.0\n",
      "Median of ProductB: 38.0\n"
     ]
    }
   ],
   "source": [
    "median_productA = np.median(productA)\n",
    "median_productB = np.median(productB)\n",
    "\n",
    "print(f\"Median of ProductA: {median_productA}\")\n",
    "print(f\"Median of ProductB: {median_productB}\")"
   ]
  },
  {
   "cell_type": "markdown",
   "id": "0e09ade0",
   "metadata": {},
   "source": [
    "ProductB has a higher median, indicating that the sales distribution tends to be higher on average."
   ]
  },
  {
   "cell_type": "code",
   "execution_count": 14,
   "id": "c279df4f",
   "metadata": {},
   "outputs": [
    {
     "name": "stdout",
     "output_type": "stream",
     "text": [
      "Mode of ProductA: 28\n",
      "Mode of ProductB: 36\n"
     ]
    }
   ],
   "source": [
    "mode_productA = np.argmax(np.bincount(productA))\n",
    "mode_productB = np.argmax(np.bincount(productB))\n",
    "\n",
    "print(f\"Mode of ProductA: {mode_productA}\")\n",
    "print(f\"Mode of ProductB: {mode_productB}\")"
   ]
  },
  {
   "cell_type": "markdown",
   "id": "f1c065d9",
   "metadata": {},
   "source": [
    "Significance of the mode:\n",
    "ProductA has multiple modes, indicating that there are multiple values occurring with the highest frequency.\n",
    "ProductB has multiple modes, indicating that there are multiple values occurring with the highest frequency."
   ]
  },
  {
   "cell_type": "code",
   "execution_count": 15,
   "id": "947639c8",
   "metadata": {},
   "outputs": [
    {
     "name": "stdout",
     "output_type": "stream",
     "text": [
      "Weighted Mean of ProductA: 28.999999999999996\n",
      "Weighted Mean of ProductB: 38.25\n"
     ]
    }
   ],
   "source": [
    "weights = np.ones_like(productA) / len(productA)\n",
    "\n",
    "weighted_mean_productA = np.average(productA, weights=weights)\n",
    "weighted_mean_productB = np.average(productB, weights=weights)\n",
    "\n",
    "print(f\"Weighted Mean of ProductA: {weighted_mean_productA}\")\n",
    "print(f\"Weighted Mean of ProductB: {weighted_mean_productB}\")"
   ]
  },
  {
   "cell_type": "markdown",
   "id": "0cc2f188",
   "metadata": {},
   "source": [
    "Implications of using weighted mean:\n",
    "Assuming each month has an equal weight implies that each month contributes equally to the overall mean.\n",
    "In this context, the weighted mean provides a simple average that does not give more importance to certain months."
   ]
  },
  {
   "cell_type": "code",
   "execution_count": 16,
   "id": "a70fe832",
   "metadata": {},
   "outputs": [
    {
     "name": "stdout",
     "output_type": "stream",
     "text": [
      "Range of ProductA: 8\n",
      "Range of ProductB: 7\n"
     ]
    }
   ],
   "source": [
    "range_productA = np.max(productA) - np.min(productA)\n",
    "range_productB = np.max(productB) - np.min(productB)\n",
    "\n",
    "print(f\"Range of ProductA: {range_productA}\")\n",
    "print(f\"Range of ProductB: {range_productB}\")"
   ]
  },
  {
   "cell_type": "markdown",
   "id": "fac37844",
   "metadata": {},
   "source": [
    "Discussion on variability:\n",
    "A larger range suggests greater variability or dispersion in sales, indicating potential fluctuations or outliers.\n",
    "A smaller range suggests less variability, implying more consistent sales figures throughout the period."
   ]
  },
  {
   "cell_type": "code",
   "execution_count": 17,
   "id": "fe913aaa",
   "metadata": {},
   "outputs": [
    {
     "name": "stdout",
     "output_type": "stream",
     "text": [
      "Variance of ProductA: 5.166666666666667\n",
      "Variance of ProductB: 4.354166666666667\n"
     ]
    }
   ],
   "source": [
    "variance_productA = np.var(productA)\n",
    "variance_productB = np.var(productB)\n",
    "\n",
    "print(f\"Variance of ProductA: {variance_productA}\")\n",
    "print(f\"Variance of ProductB: {variance_productB}\")"
   ]
  },
  {
   "cell_type": "markdown",
   "id": "8aa14ad3",
   "metadata": {},
   "source": [
    "Discussion on spread of sales:\n",
    "A higher variance indicates greater dispersion or variability in sales values.\n",
    "A lower variance suggests less spread, indicating more consistency in sales."
   ]
  },
  {
   "cell_type": "code",
   "execution_count": 18,
   "id": "44cbbe77",
   "metadata": {},
   "outputs": [
    {
     "name": "stdout",
     "output_type": "stream",
     "text": [
      "Standard Deviation of ProductA: 2.273030282830976\n",
      "Standard Deviation of ProductB: 2.0866640042581523\n"
     ]
    }
   ],
   "source": [
    "std_dev_productA = np.std(productA)\n",
    "std_dev_productB = np.std(productB)\n",
    "\n",
    "print(f\"Standard Deviation of ProductA: {std_dev_productA}\")\n",
    "print(f\"Standard Deviation of ProductB: {std_dev_productB}\")"
   ]
  },
  {
   "cell_type": "markdown",
   "id": "4385ac6c",
   "metadata": {},
   "source": [
    "Discussion on variability:\n",
    "A higher standard deviation indicates greater variability or spread in sales values.\n",
    "A lower standard deviation suggests less variability, indicating more consistency in sales."
   ]
  },
  {
   "cell_type": "code",
   "execution_count": 19,
   "id": "67423649",
   "metadata": {},
   "outputs": [
    {
     "name": "stdout",
     "output_type": "stream",
     "text": [
      "Coefficient of Variation for ProductA: 7.84%\n"
     ]
    }
   ],
   "source": [
    "cv_productA = (std_dev_productA / mean_productA) * 100\n",
    "\n",
    "print(f\"Coefficient of Variation for ProductA: {cv_productA:.2f}%\")"
   ]
  },
  {
   "cell_type": "markdown",
   "id": "b7d9fa54",
   "metadata": {},
   "source": [
    "Discussion on comparing variability:\n",
    "The coefficient of variation provides a normalized measure of dispersion, allowing for comparison between products with different average sales.\n",
    "A higher coefficient of variation indicates higher relative variability, while a lower coefficient of variation suggests lower relative variability."
   ]
  },
  {
   "cell_type": "code",
   "execution_count": 20,
   "id": "fcfc920d",
   "metadata": {},
   "outputs": [
    {
     "name": "stdout",
     "output_type": "stream",
     "text": [
      "Relative Range for ProductB: 18.30%\n"
     ]
    }
   ],
   "source": [
    "relative_range_productB = ((np.max(productB) - np.min(productB)) / mean_productB) * 100\n",
    "\n",
    "print(f\"Relative Range for ProductB: {relative_range_productB:.2f}%\")"
   ]
  },
  {
   "cell_type": "markdown",
   "id": "21dc267e",
   "metadata": {},
   "source": [
    "Discussion on relative range:\n",
    "The relative range is a normalized measure of dispersion that accounts for the scale of the data.\n",
    "By dividing the range by the mean and expressing it as a percentage, the relative range provides a relative measure of how spread out the data is.\n",
    "This is useful for comparing the variability of ProductB in a way that considers the scale of its sales values."
   ]
  },
  {
   "cell_type": "code",
   "execution_count": 21,
   "id": "30420d3d",
   "metadata": {},
   "outputs": [
    {
     "name": "stdout",
     "output_type": "stream",
     "text": [
      "Relative Standard Deviation for ProductA: 7.84%\n"
     ]
    }
   ],
   "source": [
    "rsd_productA = (std_dev_productA / mean_productA) * 100\n",
    "\n",
    "print(f\"Relative Standard Deviation for ProductA: {rsd_productA:.2f}%\")"
   ]
  },
  {
   "cell_type": "markdown",
   "id": "0174b9e2",
   "metadata": {},
   "source": [
    "Interpretation and implications:\n",
    "The relative standard deviation expresses the standard deviation as a percentage of the mean.\n",
    "A relative standard deviation of 8.19% for ProductA suggests that the sales values are spread out by this percentage relative to the mean.\n",
    "This measure provides a normalized way of understanding the variability of ProductA, accounting for the scale of the data."
   ]
  }
 ],
 "metadata": {
  "kernelspec": {
   "display_name": "Python 3 (ipykernel)",
   "language": "python",
   "name": "python3"
  },
  "language_info": {
   "codemirror_mode": {
    "name": "ipython",
    "version": 3
   },
   "file_extension": ".py",
   "mimetype": "text/x-python",
   "name": "python",
   "nbconvert_exporter": "python",
   "pygments_lexer": "ipython3",
   "version": "3.11.5"
  }
 },
 "nbformat": 4,
 "nbformat_minor": 5
}
