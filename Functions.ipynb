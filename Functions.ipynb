{
 "cells": [
  {
   "cell_type": "markdown",
   "id": "33c6f2c5",
   "metadata": {},
   "source": [
    "# Functions:\n",
    "A function is a block of code which only runs when it is called. You can pass data, known as parameters, into a function. A function can return data as a result.\n",
    "In Python, a function is a block of organized, reusable code that performs a specific task. Functions provide better modularity for your application and facilitate code reuse.\n",
    "We have a function thats already noted and then it will be called whenerver wanted.\n",
    "A set of codes which will never change and values can be changed.\n",
    "build the function called as defining the function,passing the value by calling the function.\n",
    "\n",
    "# Defining a function:\n",
    "Syntax of defining a function is :\n",
    "def func_name(parameter/s):\n",
    "block of code\n",
    "Here def is a keyword, which tells the Interpretor that we are defining a function.\n",
    "func_name is name we give to the funclion we are defining, it acts as a variable name to the block\n",
    "\n",
    "# parameters:\n",
    "parameters can be considered as the variables we use to write/ define\n",
    "Some Benefits of Using Functions\n",
    "Increase Code Readability\n",
    "Increase Code Reusability\n",
    "\n",
    "Calling a function\n",
    "Syntax for calling a function:\n",
    "func_name(arg/s)\n",
    "here arg/s are actual values or real values of variables"
   ]
  },
  {
   "cell_type": "code",
   "execution_count": 1,
   "id": "16b85111",
   "metadata": {},
   "outputs": [],
   "source": [
    "#definig a function\n",
    "def foosum(a,b): # a,b are variables\n",
    "    print(a+b)"
   ]
  },
  {
   "cell_type": "code",
   "execution_count": 2,
   "id": "bdf70f5d",
   "metadata": {},
   "outputs": [
    {
     "name": "stdout",
     "output_type": "stream",
     "text": [
      "4\n"
     ]
    },
    {
     "data": {
      "text/plain": [
       "4"
      ]
     },
     "execution_count": 2,
     "metadata": {},
     "output_type": "execute_result"
    }
   ],
   "source": [
    "# calling a function, we can call a function multiple tyms \n",
    "foosum(1,3) # 1,3  are  arguments\n",
    "4"
   ]
  },
  {
   "cell_type": "code",
   "execution_count": 3,
   "id": "f76a2526",
   "metadata": {},
   "outputs": [
    {
     "name": "stdout",
     "output_type": "stream",
     "text": [
      "12\n"
     ]
    }
   ],
   "source": [
    "foosum(10,2)"
   ]
  },
  {
   "cell_type": "markdown",
   "id": "bf89b7b4",
   "metadata": {},
   "source": [
    "# Arguments\n",
    "Information can be passed into functions as arguments.\n",
    "Arguments are specified after the function name, inside the parentheses.\n",
    "You can add as many arguments as you want, just separate them with a comma.\n",
    "Python supports 3 types of arguments:\n",
    "Positional Arguments.\n",
    "Keyword Arguments.\n",
    "Default Arguments.\n",
    "1. Positional Arguments\n",
    "Positional arguments mean whenever we pass the arguments in the order we have defined function parameters in which if you change the argument position then you may get the unexpected output.\n",
    "We should use positional Arguments whenever we know the order of argument to be passed.\n",
    "we will call the function by using the position-only arguments in two ways\n",
    "In both cases, we will be getting different outputs from which one will be correct and another one will be incorrect."
   ]
  },
  {
   "cell_type": "code",
   "execution_count": 4,
   "id": "93ff27d6",
   "metadata": {},
   "outputs": [],
   "source": [
    "def foodivision(n,d):\n",
    "    print(n/d)"
   ]
  },
  {
   "cell_type": "code",
   "execution_count": 5,
   "id": "98eac2b5",
   "metadata": {},
   "outputs": [
    {
     "name": "stdout",
     "output_type": "stream",
     "text": [
      "5.0\n"
     ]
    }
   ],
   "source": [
    "foodivision(10,2)# first arg to first parameter and sec arg \n",
    "#position maters (unpacking ) parametes place "
   ]
  },
  {
   "cell_type": "code",
   "execution_count": 6,
   "id": "11b06458",
   "metadata": {},
   "outputs": [],
   "source": [
    "def foodivision(n,d):\n",
    "    print(n/d)"
   ]
  },
  {
   "cell_type": "code",
   "execution_count": 7,
   "id": "864fe1d5",
   "metadata": {},
   "outputs": [
    {
     "name": "stdout",
     "output_type": "stream",
     "text": [
      "0.2\n"
     ]
    }
   ],
   "source": [
    "foodivision(2,10) # in this case n=2 and d=10 so the output is not crct "
   ]
  },
  {
   "cell_type": "markdown",
   "id": "09f4b165",
   "metadata": {},
   "source": [
    "# 2. Keyword Argument\n",
    "Keyword arguments mean whenever we pass the arguments(or value) by their parameter names at the time of calling the function in which if you change the position of arguments then there will be no change in the output.\n",
    "All keyword argument should follos postional argument\n",
    "Each parameter will take only one argument 'argument can be tuple also\n",
    "keyword will always be at last\n"
   ]
  },
  {
   "cell_type": "code",
   "execution_count": 8,
   "id": "b794ed48",
   "metadata": {},
   "outputs": [],
   "source": [
    "def foodivision(n,d):\n",
    "    print(n/d)"
   ]
  },
  {
   "cell_type": "code",
   "execution_count": 9,
   "id": "d918c713",
   "metadata": {},
   "outputs": [
    {
     "name": "stdout",
     "output_type": "stream",
     "text": [
      "0.2\n"
     ]
    }
   ],
   "source": [
    "#keyworD arguments\n",
    "foodivision(n=2,d=10)"
   ]
  },
  {
   "cell_type": "code",
   "execution_count": 10,
   "id": "655ecbd4",
   "metadata": {},
   "outputs": [],
   "source": [
    "def foo(a,b,c):\n",
    "    x=a+b\n",
    "    y=x/c\n",
    "    print(y)"
   ]
  },
  {
   "cell_type": "code",
   "execution_count": 11,
   "id": "a2e097ae",
   "metadata": {},
   "outputs": [
    {
     "name": "stdout",
     "output_type": "stream",
     "text": [
      "0.6\n"
     ]
    }
   ],
   "source": [
    "foo(1,2,c=5) "
   ]
  },
  {
   "cell_type": "code",
   "execution_count": 12,
   "id": "6e9fa581",
   "metadata": {},
   "outputs": [
    {
     "ename": "TypeError",
     "evalue": "foo() got multiple values for argument 'a'",
     "output_type": "error",
     "traceback": [
      "\u001b[1;31m---------------------------------------------------------------------------\u001b[0m",
      "\u001b[1;31mTypeError\u001b[0m                                 Traceback (most recent call last)",
      "Cell \u001b[1;32mIn[12], line 1\u001b[0m\n\u001b[1;32m----> 1\u001b[0m foo(\u001b[38;5;241m1\u001b[39m,\u001b[38;5;241m2\u001b[39m,a\u001b[38;5;241m=\u001b[39m\u001b[38;5;241m5\u001b[39m)\n",
      "\u001b[1;31mTypeError\u001b[0m: foo() got multiple values for argument 'a'"
     ]
    }
   ],
   "source": [
    "foo(1,2,a=5)  # multiple value error"
   ]
  },
  {
   "cell_type": "markdown",
   "id": "8cb1264d",
   "metadata": {},
   "source": [
    "# Default Argument\n",
    "Python has a different way of representing syntax and default values for function arguments.\n",
    "Default values indicate that the function argument will take that value if no argument value is passed during the function call.\n",
    "The default value is assigned by using the assignment(=) operator of the form keywordname=value.\n",
    "default arguments are passed at the time of defining a function"
   ]
  },
  {
   "cell_type": "code",
   "execution_count": 13,
   "id": "373dd91c",
   "metadata": {},
   "outputs": [],
   "source": [
    "def foopotentialenergy(m,h,g=9.8): # default arguments\n",
    "    print(m*h*g)"
   ]
  },
  {
   "cell_type": "code",
   "execution_count": 14,
   "id": "d15a4eb0",
   "metadata": {},
   "outputs": [
    {
     "name": "stdout",
     "output_type": "stream",
     "text": [
      "490.00000000000006\n"
     ]
    }
   ],
   "source": [
    "foopotentialenergy(10,5) # g is default argument"
   ]
  },
  {
   "cell_type": "code",
   "execution_count": 15,
   "id": "1515db18",
   "metadata": {},
   "outputs": [
    {
     "name": "stdout",
     "output_type": "stream",
     "text": [
      "500\n"
     ]
    }
   ],
   "source": [
    "foopotentialenergy(10,5,10) # new value of default value using position  argument"
   ]
  },
  {
   "cell_type": "code",
   "execution_count": 16,
   "id": "3d15de72",
   "metadata": {},
   "outputs": [
    {
     "name": "stdout",
     "output_type": "stream",
     "text": [
      "500\n"
     ]
    }
   ],
   "source": [
    "foopotentialenergy(10,5,g=10)# pass new value for default value using key word argument"
   ]
  },
  {
   "cell_type": "markdown",
   "id": "93ef5e83",
   "metadata": {},
   "source": [
    "# Documentation strings\n",
    "Documentation strings (or docstrings) provide a convenient way of associating documentation with Python modules, functions, classes, and methods.\n",
    "It’s specified in source code that is used, like a comment, to document a specific segment of code. Unlike conventional source code comments, the docstring should describe what the function does, not how.\n",
    "\n",
    "Declaring Docstrings:\n",
    "The docstrings are declared using ”’triple single quotes”’ or “”” triple double quotes “”” just below the class, method, or function declaration. All functions should have a docstring.\n",
    "\n",
    "Accessing Docstrings:\n",
    "The docstrings can be accessed using the __ doc __ method of the object or using the help function."
   ]
  },
  {
   "cell_type": "code",
   "execution_count": 17,
   "id": "ed77d576",
   "metadata": {},
   "outputs": [],
   "source": [
    "def foodivision(d: float , n: float):\n",
    "    ''' \n",
    "    d= denominator \n",
    "    n= n........\n",
    "    '''\n",
    "    print(n/d) # here ( ''' doc strings ''')"
   ]
  },
  {
   "cell_type": "code",
   "execution_count": 18,
   "id": "b750f3af",
   "metadata": {},
   "outputs": [
    {
     "name": "stdout",
     "output_type": "stream",
     "text": [
      " \n",
      "    d= denominator \n",
      "    n= n........\n",
      "    \n"
     ]
    }
   ],
   "source": [
    "print(foodivision.__doc__) # to read doc strings use (.double underscore doc doubleunderscore)\n",
    "#(.__doc__)"
   ]
  }
 ],
 "metadata": {
  "kernelspec": {
   "display_name": "Python 3 (ipykernel)",
   "language": "python",
   "name": "python3"
  },
  "language_info": {
   "codemirror_mode": {
    "name": "ipython",
    "version": 3
   },
   "file_extension": ".py",
   "mimetype": "text/x-python",
   "name": "python",
   "nbconvert_exporter": "python",
   "pygments_lexer": "ipython3",
   "version": "3.11.5"
  }
 },
 "nbformat": 4,
 "nbformat_minor": 5
}
