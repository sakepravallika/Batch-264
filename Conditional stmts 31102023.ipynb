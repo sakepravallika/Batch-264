{
 "cells": [
  {
   "cell_type": "markdown",
   "id": "652c33a2",
   "metadata": {},
   "source": [
    "# Conditional Statements\n",
    "### Conditional statements are an essential part of programming in Python. They allow you to make decisions based on the values of variables or the result of comparisons."
   ]
  },
  {
   "cell_type": "code",
   "execution_count": null,
   "id": "c7f1c419",
   "metadata": {},
   "outputs": [],
   "source": [
    "# Types of Control Flow in Python\n",
    "# In Python programming language, the type of control flow statements is as follows:\n",
    "\n",
    "if statement\n",
    "if-else statement\n",
    "nested-if statement\n",
    "if-elif-else ladder"
   ]
  },
  {
   "cell_type": "markdown",
   "id": "5aa2a8e8",
   "metadata": {},
   "source": [
    "# if statement\n",
    "## The if statement is the most simple decision-making statement. It is used to decide whether a certain statement or block of statements will be executed or not. Syntax:\n",
    "\n",
    "if (condition):\n",
    "Executes this block if\n",
    "condition is true\n",
    "else:\n",
    "Executes this block if\n",
    "condition is false"
   ]
  },
  {
   "cell_type": "code",
   "execution_count": 1,
   "id": "22c6b3fb",
   "metadata": {},
   "outputs": [
    {
     "name": "stdout",
     "output_type": "stream",
     "text": [
      "second round\n"
     ]
    }
   ],
   "source": [
    "Pravallika_marks = 90\n",
    "if Pravallika_marks >= 80:\n",
    "    print('second round') # true it given value is Seond round"
   ]
  },
  {
   "cell_type": "markdown",
   "id": "6c8ecb49",
   "metadata": {},
   "source": [
    "# If-Else Statement\n",
    "## if statement alone tells us that if a condition is true it will execute a block of statements and if the condition is false it won’t.\n",
    "But if we want to do something else if the condition is false, we can use the else statement with if statement to execute a block of code when the if condition is false.\n",
    "\n",
    "Syntax:\n",
    "if (condition):\n",
    "Executes this block if\n",
    "condition is true\n",
    "else:\n",
    "Executes this block if\n",
    "condition is false"
   ]
  },
  {
   "cell_type": "code",
   "execution_count": 2,
   "id": "aadab76c",
   "metadata": {},
   "outputs": [
    {
     "name": "stdout",
     "output_type": "stream",
     "text": [
      "No\n"
     ]
    }
   ],
   "source": [
    "x = 3\n",
    "if x == 4:\n",
    "   print(\"Yes\")\n",
    "else:\n",
    "   print(\"No\")"
   ]
  },
  {
   "cell_type": "markdown",
   "id": "cc8f8738",
   "metadata": {},
   "source": [
    "# Nested if Statement\n",
    "## if statement can also be checked inside other if statement. This conditional statement is called a nested if statement. This means that inner if condition will be checked only if outer if condition is true and by this, we can see multiple conditions to be satisfied.\n",
    "\n",
    "Syntax:\n",
    "if (condition1):\n",
    "Executes when condition1 is true\n",
    "if (condition2): * Executes when condition2 is true\n",
    "if Block is end here\n",
    "Block is end here"
   ]
  },
  {
   "cell_type": "code",
   "execution_count": 4,
   "id": "2d0b0b32",
   "metadata": {},
   "outputs": [
    {
     "name": "stdout",
     "output_type": "stream",
     "text": [
      "12\n",
      "div by 6\n"
     ]
    }
   ],
   "source": [
    "num= int(input())\n",
    "if num%3==0 : # true goes to other stmt\n",
    "    if num%2==0:\n",
    "        print('div by 6')"
   ]
  },
  {
   "cell_type": "code",
   "execution_count": 8,
   "id": "b8235fad",
   "metadata": {},
   "outputs": [
    {
     "name": "stdout",
     "output_type": "stream",
     "text": [
      "marks scored: 75\n",
      "first round\n"
     ]
    }
   ],
   "source": [
    "marks=int(input('marks scored: '))\n",
    "if marks>=100 or marks<=0: \n",
    "    print(\"enter valid marks\")\n",
    "else:\n",
    "    if marks>=80:\n",
    "         print(\"second round\")\n",
    "    elif (marks>=70):\n",
    "         print(\"first round\")\n",
    "    elif (marks>=60):\n",
    "         print(\"screening round\")\n",
    "    else:\n",
    "        print(\"study hard\")"
   ]
  },
  {
   "cell_type": "markdown",
   "id": "fe6cfe42",
   "metadata": {},
   "source": [
    "# if-elif Statement\n",
    "## if-elif statement is shortcut of if..else chain. While using if-elif statement at the end else block is added which is performed if none of the above if-elif statement is true.\n",
    "\n",
    "Syntax:-\n",
    "if (condition):\n",
    "statement\n",
    "elif (condition):\n",
    "statement\n",
    "else:\n",
    "statement"
   ]
  },
  {
   "cell_type": "code",
   "execution_count": 7,
   "id": "8773d00d",
   "metadata": {},
   "outputs": [
    {
     "name": "stdout",
     "output_type": "stream",
     "text": [
      "marks scored: 70\n",
      "first round\n"
     ]
    }
   ],
   "source": [
    "marks=int(input('marks scored: '))\n",
    "if marks>=100 or marks<=0: \n",
    "    print(\"enter valid marks\")\n",
    "elif marks>=80:\n",
    "         print(\"second round\")\n",
    "elif (marks>=70):\n",
    "         print(\"first round\")\n",
    "elif (marks>=60):\n",
    "         print(\"screening round\")\n",
    "else:\n",
    "        print(\"study hard\")"
   ]
  }
 ],
 "metadata": {
  "kernelspec": {
   "display_name": "Python 3 (ipykernel)",
   "language": "python",
   "name": "python3"
  },
  "language_info": {
   "codemirror_mode": {
    "name": "ipython",
    "version": 3
   },
   "file_extension": ".py",
   "mimetype": "text/x-python",
   "name": "python",
   "nbconvert_exporter": "python",
   "pygments_lexer": "ipython3",
   "version": "3.11.5"
  }
 },
 "nbformat": 4,
 "nbformat_minor": 5
}
